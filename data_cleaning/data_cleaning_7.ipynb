{
 "cells": [
  {
   "cell_type": "code",
   "execution_count": 64,
   "metadata": {},
   "outputs": [],
   "source": [
    "import pandas as pd\n",
    "import numpy as np\n",
    "\n",
    "\n",
    "# read the csv file\n",
    "summary_df = pd.read_csv('https://raw.githubusercontent.com/jfoo0016/FIT3179_Assignment2/main/data/summary_and_vaccine_data.csv')\n"
   ]
  },
  {
   "cell_type": "code",
   "execution_count": 65,
   "metadata": {},
   "outputs": [],
   "source": [
    "# keep only the required columns for country_vaccinations.csv\n",
    "summary_df = summary_df[['country','continent','total_tests', 'people_fully_vaccinated', 'population']]\n"
   ]
  },
  {
   "cell_type": "code",
   "execution_count": 66,
   "metadata": {},
   "outputs": [],
   "source": [
    "# create new columns\n",
    "summary_df['total_tests_per_hundred'] = (summary_df['total_tests'] / summary_df['population']) * 100\n",
    "\n",
    "\n",
    "summary_df['people_fully_vaccinated_per_hundred'] = (summary_df['people_fully_vaccinated'] / summary_df['population']) * 100\n"
   ]
  },
  {
   "cell_type": "code",
   "execution_count": 63,
   "metadata": {},
   "outputs": [
    {
     "data": {
      "text/html": [
       "<div>\n",
       "<style scoped>\n",
       "    .dataframe tbody tr th:only-of-type {\n",
       "        vertical-align: middle;\n",
       "    }\n",
       "\n",
       "    .dataframe tbody tr th {\n",
       "        vertical-align: top;\n",
       "    }\n",
       "\n",
       "    .dataframe thead th {\n",
       "        text-align: right;\n",
       "    }\n",
       "</style>\n",
       "<table border=\"1\" class=\"dataframe\">\n",
       "  <thead>\n",
       "    <tr style=\"text-align: right;\">\n",
       "      <th></th>\n",
       "      <th>country</th>\n",
       "      <th>continent</th>\n",
       "      <th>total_tests</th>\n",
       "      <th>people_fully_vaccinated</th>\n",
       "      <th>population</th>\n",
       "      <th>total_tests_per_hundred</th>\n",
       "    </tr>\n",
       "  </thead>\n",
       "  <tbody>\n",
       "    <tr>\n",
       "      <th>0</th>\n",
       "      <td>Afghanistan</td>\n",
       "      <td>Asia</td>\n",
       "      <td>951337.0</td>\n",
       "      <td>4420127.0</td>\n",
       "      <td>40560636</td>\n",
       "      <td>2.345469</td>\n",
       "    </tr>\n",
       "    <tr>\n",
       "      <th>1</th>\n",
       "      <td>Albania</td>\n",
       "      <td>Europe</td>\n",
       "      <td>1817530.0</td>\n",
       "      <td>1215199.0</td>\n",
       "      <td>2871945</td>\n",
       "      <td>63.285683</td>\n",
       "    </tr>\n",
       "    <tr>\n",
       "      <th>2</th>\n",
       "      <td>Algeria</td>\n",
       "      <td>Africa</td>\n",
       "      <td>230861.0</td>\n",
       "      <td>6110712.0</td>\n",
       "      <td>45325517</td>\n",
       "      <td>0.509340</td>\n",
       "    </tr>\n",
       "    <tr>\n",
       "      <th>3</th>\n",
       "      <td>Andorra</td>\n",
       "      <td>Europe</td>\n",
       "      <td>249838.0</td>\n",
       "      <td>53367.0</td>\n",
       "      <td>77495</td>\n",
       "      <td>322.392412</td>\n",
       "    </tr>\n",
       "    <tr>\n",
       "      <th>4</th>\n",
       "      <td>Angola</td>\n",
       "      <td>Africa</td>\n",
       "      <td>1499795.0</td>\n",
       "      <td>5993792.0</td>\n",
       "      <td>34769277</td>\n",
       "      <td>4.313564</td>\n",
       "    </tr>\n",
       "  </tbody>\n",
       "</table>\n",
       "</div>"
      ],
      "text/plain": [
       "       country continent  total_tests  people_fully_vaccinated  population  \\\n",
       "0  Afghanistan      Asia     951337.0                4420127.0    40560636   \n",
       "1      Albania    Europe    1817530.0                1215199.0     2871945   \n",
       "2      Algeria    Africa     230861.0                6110712.0    45325517   \n",
       "3      Andorra    Europe     249838.0                  53367.0       77495   \n",
       "4       Angola    Africa    1499795.0                5993792.0    34769277   \n",
       "\n",
       "   total_tests_per_hundred  \n",
       "0                 2.345469  \n",
       "1                63.285683  \n",
       "2                 0.509340  \n",
       "3               322.392412  \n",
       "4                 4.313564  "
      ]
     },
     "execution_count": 63,
     "metadata": {},
     "output_type": "execute_result"
    }
   ],
   "source": [
    "# save the newly created data frame into a csv file\n",
    "summary_df.to_csv('C:/Users/FooJacky/Documents/2022 Sem 2/FIT3179/FIT3179_Assignment2/data/scatter_plot_data.csv')"
   ]
  }
 ],
 "metadata": {
  "kernelspec": {
   "display_name": "Python 3.9.12 ('base')",
   "language": "python",
   "name": "python3"
  },
  "language_info": {
   "codemirror_mode": {
    "name": "ipython",
    "version": 3
   },
   "file_extension": ".py",
   "mimetype": "text/x-python",
   "name": "python",
   "nbconvert_exporter": "python",
   "pygments_lexer": "ipython3",
   "version": "3.9.12"
  },
  "orig_nbformat": 4,
  "vscode": {
   "interpreter": {
    "hash": "d9df16fd60331bb2620fa31debe3e8037feec6f388d643b18be5ed7151b62003"
   }
  }
 },
 "nbformat": 4,
 "nbformat_minor": 2
}
