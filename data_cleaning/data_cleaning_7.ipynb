{
 "cells": [
  {
   "cell_type": "code",
   "execution_count": 67,
   "metadata": {},
   "outputs": [],
   "source": [
    "import pandas as pd\n",
    "import numpy as np\n",
    "\n",
    "\n",
    "# read the csv file\n",
    "summary_df = pd.read_csv('https://raw.githubusercontent.com/jfoo0016/FIT3179_Assignment2/main/data/summary_and_vaccine_data.csv')\n"
   ]
  },
  {
   "cell_type": "code",
   "execution_count": 68,
   "metadata": {},
   "outputs": [],
   "source": [
    "# keep only the required columns for country_vaccinations.csv\n",
    "summary_df = summary_df[['country','continent','total_tests', 'people_fully_vaccinated', 'population']]\n"
   ]
  },
  {
   "cell_type": "code",
   "execution_count": 69,
   "metadata": {},
   "outputs": [],
   "source": [
    "# create new columns\n",
    "summary_df['total_tests_per_hundred'] = (summary_df['total_tests'] / summary_df['population']) * 100\n",
    "\n",
    "\n",
    "summary_df['people_fully_vaccinated_per_hundred'] = (summary_df['people_fully_vaccinated'] / summary_df['population']) * 100\n"
   ]
  },
  {
   "cell_type": "code",
   "execution_count": 70,
   "metadata": {},
   "outputs": [],
   "source": [
    "# save the newly created data frame into a csv file\n",
    "summary_df.to_csv('C:/Users/FooJacky/Documents/2022 Sem 2/FIT3179/FIT3179_Assignment2/data/scatter_plot_data.csv')"
   ]
  }
 ],
 "metadata": {
  "kernelspec": {
   "display_name": "Python 3.9.12 ('base')",
   "language": "python",
   "name": "python3"
  },
  "language_info": {
   "codemirror_mode": {
    "name": "ipython",
    "version": 3
   },
   "file_extension": ".py",
   "mimetype": "text/x-python",
   "name": "python",
   "nbconvert_exporter": "python",
   "pygments_lexer": "ipython3",
   "version": "3.9.12"
  },
  "orig_nbformat": 4,
  "vscode": {
   "interpreter": {
    "hash": "d9df16fd60331bb2620fa31debe3e8037feec6f388d643b18be5ed7151b62003"
   }
  }
 },
 "nbformat": 4,
 "nbformat_minor": 2
}
