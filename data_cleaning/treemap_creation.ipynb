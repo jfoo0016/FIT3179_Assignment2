{
 "cells": [
  {
   "cell_type": "code",
   "execution_count": 2,
   "metadata": {},
   "outputs": [],
   "source": [
    "import plotly.express as px\n",
    "import pandas as pd\n",
    "import plotly\n",
    "\n",
    "# read data from csv\n",
    "df = pd.read_csv(\"C:/Users/FooJacky/Documents/2022 Sem 2/FIT3179/FIT3179_Assignment2/data/country_vaccinations.csv\")"
   ]
  },
  {
   "cell_type": "code",
   "execution_count": 3,
   "metadata": {},
   "outputs": [
    {
     "name": "stderr",
     "output_type": "stream",
     "text": [
      "C:\\Users\\FooJacky\\AppData\\Local\\Temp\\ipykernel_21784\\1906925209.py:1: FutureWarning: Indexing with multiple keys (implicitly converted to a tuple of keys) will be deprecated, use a list instead.\n",
      "  country_vaccine = df.groupby([\"country\", \"iso_code\", \"vaccines\"])['total_vaccinations',\n"
     ]
    }
   ],
   "source": [
    "country_vaccine = df.groupby([\"country\", \"iso_code\", \"vaccines\"])['total_vaccinations', \n",
    "                                                                       'total_vaccinations_per_hundred',\n",
    "                                                                      'daily_vaccinations',\n",
    "                                                                      'daily_vaccinations_per_million',\n",
    "                                                                      'people_vaccinated',\n",
    "                                                                      'people_vaccinated_per_hundred',\n",
    "                                                                       'people_fully_vaccinated', 'people_fully_vaccinated_per_hundred'\n",
    "                                                                      ].max().reset_index()\n",
    "country_vaccine.columns = [\"Country\", \"iso_code\", \"Vaccines\", \"Total vaccinations\", \"Percent\", \"Daily vaccinations\", \n",
    "                           \"Daily vaccinations per million\", \"People vaccinated\", \"People vaccinated per hundred\",\n",
    "                           'People fully vaccinated', 'People fully vaccinated percent']"
   ]
  },
  {
   "cell_type": "code",
   "execution_count": 4,
   "metadata": {},
   "outputs": [
    {
     "name": "stdout",
     "output_type": "stream",
     "text": [
      "Vaccines: Johnson&Johnson, Oxford/AstraZeneca, Pfizer/BioNTech, Sinopharm/Beijing: \n",
      "Countries: ['Afghanistan', 'Belize', 'Cameroon', 'Namibia', 'Trinidad and Tobago']\n",
      "\n",
      "Vaccines: Oxford/AstraZeneca, Pfizer/BioNTech, Sinovac, Sputnik V: \n",
      "Countries: ['Albania', 'Azerbaijan', 'Bosnia and Herzegovina', 'Oman']\n",
      "\n",
      "Vaccines: Oxford/AstraZeneca, Sinopharm/Beijing, Sinovac, Sputnik V: \n",
      "Countries: ['Algeria', 'Zimbabwe']\n",
      "\n",
      "Vaccines: Moderna, Oxford/AstraZeneca, Pfizer/BioNTech: \n",
      "Countries: ['Andorra', 'Australia', 'England', 'Fiji', 'Finland', 'Guernsey', 'Isle of Man', 'Japan', 'Jersey', 'Northern Ireland', 'Scotland', 'Sint Maarten (Dutch part)', 'Sweden', 'United Kingdom', 'Wales']\n",
      "\n",
      "Vaccines: Oxford/AstraZeneca: \n",
      "Countries: ['Angola', 'Democratic Republic of Congo', 'Falkland Islands', 'Kiribati', 'Liberia', 'Mali', 'Montserrat', 'Nauru', 'Nigeria', 'Papua New Guinea', 'Pitcairn', 'Saint Helena', 'Saint Vincent and the Grenadines', 'Samoa', 'Sao Tome and Principe', 'Solomon Islands', 'Togo', 'Tonga', 'Tuvalu', 'Vanuatu']\n",
      "\n",
      "Vaccines: Oxford/AstraZeneca, Pfizer/BioNTech: \n",
      "Countries: ['Anguilla', 'Bermuda', 'Cayman Islands', 'Costa Rica', 'Gibraltar', 'Kosovo', 'New Zealand', 'Panama', 'Saint Kitts and Nevis', 'Saint Lucia', 'Saudi Arabia']\n",
      "\n",
      "Vaccines: Oxford/AstraZeneca, Pfizer/BioNTech, Sputnik V: \n",
      "Countries: ['Antigua and Barbuda']\n",
      "\n",
      "Vaccines: CanSino, Moderna, Oxford/AstraZeneca, Pfizer/BioNTech, Sinopharm/Beijing, Sputnik V: \n",
      "Countries: ['Argentina']\n",
      "\n",
      "Vaccines: Moderna, Oxford/AstraZeneca, Sinopharm/Beijing, Sinovac, Sputnik V: \n",
      "Countries: ['Armenia']\n",
      "\n",
      "Vaccines: Pfizer/BioNTech: \n",
      "Countries: ['Aruba', 'Cook Islands', 'Monaco', 'New Caledonia', 'Niue', 'Tokelau', 'Turks and Caicos Islands']\n",
      "\n",
      "Vaccines: Johnson&Johnson, Moderna, Novavax, Oxford/AstraZeneca, Pfizer/BioNTech: \n",
      "Countries: ['Austria', 'Czechia', 'Germany', 'Italy', 'Lithuania', 'Netherlands', 'Slovenia', 'South Korea']\n",
      "\n",
      "Vaccines: Johnson&Johnson, Oxford/AstraZeneca, Pfizer/BioNTech: \n",
      "Countries: ['Bahamas', 'Eswatini', 'Grenada']\n",
      "\n",
      "Vaccines: Johnson&Johnson, Moderna, Oxford/AstraZeneca, Pfizer/BioNTech, Sinopharm/Beijing, Sputnik Light, Sputnik V: \n",
      "Countries: ['Bahrain']\n",
      "\n",
      "Vaccines: Johnson&Johnson, Moderna, Oxford/AstraZeneca, Pfizer/BioNTech, Sinopharm/Beijing, Sinovac: \n",
      "Countries: ['Bangladesh']\n",
      "\n",
      "Vaccines: Oxford/AstraZeneca, Pfizer/BioNTech, Sinopharm/Beijing: \n",
      "Countries: ['Barbados', 'Dominica', 'Maldives', 'Peru', 'Suriname']\n",
      "\n",
      "Vaccines: Sinopharm/Beijing, Sputnik V: \n",
      "Countries: ['Belarus', 'Kyrgyzstan']\n",
      "\n",
      "Vaccines: Johnson&Johnson, Moderna, Oxford/AstraZeneca, Pfizer/BioNTech: \n",
      "Countries: ['Belgium', 'Bulgaria', 'Canada', 'Croatia', 'Cyprus', 'Estonia', 'France', 'Greece', 'Iceland', 'Ireland', 'Jamaica', 'Luxembourg', 'Malta', 'Poland', 'Portugal', 'Romania', 'Spain']\n",
      "\n",
      "Vaccines: Johnson&Johnson, Oxford/AstraZeneca, Pfizer/BioNTech, Sinovac: \n",
      "Countries: ['Benin', 'Brazil']\n",
      "\n",
      "Vaccines: Moderna, Oxford/AstraZeneca, Pfizer/BioNTech, Sinopharm/Beijing: \n",
      "Countries: ['Bhutan', 'Cape Verde']\n",
      "\n",
      "Vaccines: Johnson&Johnson, Oxford/AstraZeneca, Pfizer/BioNTech, Sinopharm/Beijing, Sputnik V: \n",
      "Countries: ['Bolivia', \"Cote d'Ivoire\", 'Moldova', 'Morocco']\n",
      "\n",
      "Vaccines: Moderna, Pfizer/BioNTech: \n",
      "Countries: ['Bonaire Sint Eustatius and Saba', 'Curacao', 'Faeroe Islands', 'Israel', 'Norway', 'Qatar']\n",
      "\n",
      "Vaccines: Covaxin, Johnson&Johnson, Moderna, Oxford/AstraZeneca, Pfizer/BioNTech, Sinovac: \n",
      "Countries: ['Botswana']\n",
      "\n",
      "Vaccines: Johnson&Johnson, Oxford/AstraZeneca: \n",
      "Countries: ['British Virgin Islands', 'Malawi', 'South Sudan']\n",
      "\n",
      "Vaccines: Johnson&Johnson, Moderna, Oxford/AstraZeneca, Pfizer/BioNTech, Sinopharm/Beijing: \n",
      "Countries: ['Brunei', 'Kenya', 'Kuwait', 'Nepal']\n",
      "\n",
      "Vaccines: Johnson&Johnson, Oxford/AstraZeneca, Sinopharm/Beijing: \n",
      "Countries: ['Burkina Faso', 'Gambia', 'Lesotho', 'Madagascar', 'Mozambique', 'Senegal', 'Zambia']\n",
      "\n",
      "Vaccines: Sinopharm/Beijing: \n",
      "Countries: ['Burundi', 'Chad', 'Equatorial Guinea']\n",
      "\n",
      "Vaccines: Johnson&Johnson, Oxford/AstraZeneca, Sinopharm/Beijing, Sinovac: \n",
      "Countries: ['Cambodia', 'Somalia']\n",
      "\n",
      "Vaccines: Covaxin, Oxford/AstraZeneca: \n",
      "Countries: ['Central African Republic']\n",
      "\n",
      "Vaccines: CanSino, Oxford/AstraZeneca, Pfizer/BioNTech, Sinovac: \n",
      "Countries: ['Chile', 'Ecuador']\n",
      "\n",
      "Vaccines: CanSino, Sinopharm/Beijing, Sinopharm/Wuhan, Sinovac, ZF2001: \n",
      "Countries: ['China']\n",
      "\n",
      "Vaccines: Johnson&Johnson, Moderna, Oxford/AstraZeneca, Pfizer/BioNTech, Sinovac: \n",
      "Countries: ['Colombia', 'Uganda', 'Ukraine']\n",
      "\n",
      "Vaccines: Covaxin, Oxford/AstraZeneca, Sinopharm/Beijing: \n",
      "Countries: ['Comoros', 'Mauritius']\n",
      "\n",
      "Vaccines: Moderna, Oxford/AstraZeneca, Sinopharm/Beijing, Sputnik V: \n",
      "Countries: ['Congo']\n",
      "\n",
      "Vaccines: Abdala, Soberana Plus, Soberana02: \n",
      "Countries: ['Cuba']\n",
      "\n",
      "Vaccines: Johnson&Johnson, Moderna, Pfizer/BioNTech: \n",
      "Countries: ['Denmark', 'Liechtenstein', 'Switzerland', 'United States']\n",
      "\n",
      "Vaccines: Johnson&Johnson, Oxford/AstraZeneca, Pfizer/BioNTech, Sinopharm/Beijing, Sinovac, Sputnik V: \n",
      "Countries: ['Djibouti', 'Egypt', 'Guinea']\n",
      "\n",
      "Vaccines: Oxford/AstraZeneca, Pfizer/BioNTech, Sinopharm/Beijing, Sinovac: \n",
      "Countries: ['Dominican Republic', 'El Salvador', 'Georgia']\n",
      "\n",
      "Vaccines: Covaxin, Johnson&Johnson, Oxford/AstraZeneca, Sinopharm/Beijing, Sinovac: \n",
      "Countries: ['Ethiopia']\n",
      "\n",
      "Vaccines: Johnson&Johnson, Pfizer/BioNTech: \n",
      "Countries: ['French Polynesia', 'South Africa']\n",
      "\n",
      "Vaccines: Pfizer/BioNTech, Sinopharm/Beijing, Sputnik V: \n",
      "Countries: ['Gabon']\n",
      "\n",
      "Vaccines: Oxford/AstraZeneca, Sputnik V: \n",
      "Countries: ['Ghana']\n",
      "\n",
      "Vaccines: Moderna: \n",
      "Countries: ['Greenland', 'Wallis and Futuna']\n",
      "\n",
      "Vaccines: Moderna, Oxford/AstraZeneca, Pfizer/BioNTech, Sputnik V: \n",
      "Countries: ['Guatemala']\n",
      "\n",
      "Vaccines: Oxford/AstraZeneca, Sinopharm/Beijing: \n",
      "Countries: ['Guinea-Bissau', 'Mauritania', 'Myanmar', 'Niger', 'Sierra Leone']\n",
      "\n",
      "Vaccines: Moderna, Oxford/AstraZeneca, Pfizer/BioNTech, Sinopharm/Beijing, Sputnik V: \n",
      "Countries: ['Guyana', 'Sri Lanka']\n",
      "\n",
      "Vaccines: Johnson&Johnson, Moderna: \n",
      "Countries: ['Haiti']\n",
      "\n",
      "Vaccines: Johnson&Johnson, Moderna, Oxford/AstraZeneca, Pfizer/BioNTech, Sputnik V: \n",
      "Countries: ['Honduras']\n",
      "\n",
      "Vaccines: Pfizer/BioNTech, Sinovac: \n",
      "Countries: ['Hong Kong']\n",
      "\n",
      "Vaccines: Johnson&Johnson, Moderna, Oxford/AstraZeneca, Pfizer/BioNTech, Sinopharm/Beijing, Sputnik V: \n",
      "Countries: ['Hungary', 'Jordan']\n",
      "\n",
      "Vaccines: Covaxin, Oxford/AstraZeneca, Sputnik V: \n",
      "Countries: ['India']\n",
      "\n",
      "Vaccines: Johnson&Johnson, Moderna, Novavax, Oxford/AstraZeneca, Pfizer/BioNTech, Sinopharm/Beijing, Sinovac: \n",
      "Countries: ['Indonesia']\n",
      "\n",
      "Vaccines: COVIran Barekat, Covaxin, FAKHRAVAC, Oxford/AstraZeneca, Razi Cov Pars, Sinopharm/Beijing, Soberana02, SpikoGen, Sputnik V: \n",
      "Countries: ['Iran']\n",
      "\n",
      "Vaccines: Oxford/AstraZeneca, Pfizer/BioNTech, Sinopharm/Beijing, Sputnik V: \n",
      "Countries: ['Iraq', 'Lebanon', 'Mongolia', 'Montenegro', 'Serbia']\n",
      "\n",
      "Vaccines: QazVac, Sinopharm/Beijing, Sputnik V: \n",
      "Countries: ['Kazakhstan']\n",
      "\n",
      "Vaccines: Johnson&Johnson, Oxford/AstraZeneca, Pfizer/BioNTech, Sinopharm/Beijing, Sinovac, Sputnik Light, Sputnik V: \n",
      "Countries: ['Laos']\n",
      "\n",
      "Vaccines: Johnson&Johnson, Moderna, Novavax, Pfizer/BioNTech: \n",
      "Countries: ['Latvia']\n",
      "\n",
      "Vaccines: Oxford/AstraZeneca, Pfizer/BioNTech, Sinopharm/Beijing, Sinovac, Sputnik V: \n",
      "Countries: ['Libya', 'North Macedonia']\n",
      "\n",
      "Vaccines: Pfizer/BioNTech, Sinopharm/Beijing: \n",
      "Countries: ['Macao']\n",
      "\n",
      "Vaccines: CanSino, Oxford/AstraZeneca, Pfizer/BioNTech, Sinopharm/Beijing, Sinovac: \n",
      "Countries: ['Malaysia']\n",
      "\n",
      "Vaccines: CanSino, Johnson&Johnson, Moderna, Oxford/AstraZeneca, Pfizer/BioNTech, Sinovac, Sputnik V: \n",
      "Countries: ['Mexico']\n",
      "\n",
      "Vaccines: Abdala, Johnson&Johnson, Oxford/AstraZeneca, Pfizer/BioNTech, Soberana02, Sputnik Light, Sputnik V: \n",
      "Countries: ['Nicaragua']\n",
      "\n",
      "Vaccines: Oxford/AstraZeneca, Pfizer/BioNTech, Sinovac: \n",
      "Countries: ['Northern Cyprus', 'Timor', 'Uruguay']\n",
      "\n",
      "Vaccines: CanSino, Covaxin, Moderna, Oxford/AstraZeneca, Pfizer/BioNTech, Sinopharm/Beijing, Sinovac, Sputnik V: \n",
      "Countries: ['Pakistan']\n",
      "\n",
      "Vaccines: Johnson&Johnson, Moderna, Oxford/AstraZeneca, Pfizer/BioNTech, Sinopharm/Beijing, Sinovac, Sputnik Light, Sputnik V: \n",
      "Countries: ['Palestine', 'Philippines']\n",
      "\n",
      "Vaccines: Covaxin, Moderna, Oxford/AstraZeneca, Pfizer/BioNTech, Sinopharm/Beijing, Sinovac, Sputnik V: \n",
      "Countries: ['Paraguay']\n",
      "\n",
      "Vaccines: EpiVacCorona, Sputnik V: \n",
      "Countries: ['Russia']\n",
      "\n",
      "Vaccines: Johnson&Johnson, Moderna, Oxford/AstraZeneca, Pfizer/BioNTech, Sinopharm/Beijing, Sinovac, Sputnik V: \n",
      "Countries: ['Rwanda', 'Tunisia']\n",
      "\n",
      "Vaccines: Pfizer/BioNTech, Sputnik V: \n",
      "Countries: ['San Marino']\n",
      "\n",
      "Vaccines: Oxford/AstraZeneca, Sinopharm/Beijing, Sputnik V: \n",
      "Countries: ['Seychelles']\n",
      "\n",
      "Vaccines: Moderna, Pfizer/BioNTech, Sinopharm/Beijing, Sinovac: \n",
      "Countries: ['Singapore']\n",
      "\n",
      "Vaccines: Johnson&Johnson, Moderna, Novavax, Oxford/AstraZeneca, Pfizer/BioNTech, Sputnik V: \n",
      "Countries: ['Slovakia']\n",
      "\n",
      "Vaccines: Johnson&Johnson, Oxford/AstraZeneca, Pfizer/BioNTech, Sinopharm/Beijing, Sinovac: \n",
      "Countries: ['Sudan']\n",
      "\n",
      "Vaccines: Johnson&Johnson, Oxford/AstraZeneca, Sinopharm/Beijing, Sinovac, Sputnik Light, Sputnik V: \n",
      "Countries: ['Syria']\n",
      "\n",
      "Vaccines: Medigen, Moderna, Oxford/AstraZeneca, Pfizer/BioNTech: \n",
      "Countries: ['Taiwan']\n",
      "\n",
      "Vaccines: Moderna, Oxford/AstraZeneca, Pfizer/BioNTech, Sinovac, Sputnik V: \n",
      "Countries: ['Tajikistan']\n",
      "\n",
      "Vaccines: Johnson&Johnson, Pfizer/BioNTech, Sinopharm/Beijing: \n",
      "Countries: ['Tanzania']\n",
      "\n",
      "Vaccines: Moderna, Oxford/AstraZeneca, Pfizer/BioNTech, Sinopharm/Beijing, Sinovac: \n",
      "Countries: ['Thailand']\n",
      "\n",
      "Vaccines: Pfizer/BioNTech, Sinovac, Turkovac: \n",
      "Countries: ['Turkey']\n",
      "\n",
      "Vaccines: EpiVacCorona, Oxford/AstraZeneca, QazVac, Sinopharm/Beijing, Sputnik V, ZF2001: \n",
      "Countries: ['Turkmenistan']\n",
      "\n",
      "Vaccines: Oxford/AstraZeneca, Pfizer/BioNTech, Sinopharm/Beijing, Sinopharm/Wuhan, Sputnik V: \n",
      "Countries: ['United Arab Emirates']\n",
      "\n",
      "Vaccines: Moderna, Oxford/AstraZeneca, Pfizer/BioNTech, Sinovac, Sputnik Light, Sputnik V, ZF2001: \n",
      "Countries: ['Uzbekistan']\n",
      "\n",
      "Vaccines: Abdala, Sinopharm/Beijing, Sinovac, Soberana02, Sputnik Light, Sputnik V: \n",
      "Countries: ['Venezuela']\n",
      "\n",
      "Vaccines: Abdala, Moderna, Oxford/AstraZeneca, Pfizer/BioNTech, Sinopharm/Beijing, Sputnik V: \n",
      "Countries: ['Vietnam']\n",
      "\n",
      "Vaccines: Johnson&Johnson, Oxford/AstraZeneca, Sinovac: \n",
      "Countries: ['Yemen']\n",
      "\n"
     ]
    }
   ],
   "source": [
    "vaccines = country_vaccine.Vaccines.unique()\n",
    "for v in vaccines:\n",
    "    countries = country_vaccine.loc[country_vaccine.Vaccines==v, 'Country'].values\n",
    "    print(f\"Vaccines: {v}: \\nCountries: {list(countries)}\\n\")"
   ]
  },
  {
   "cell_type": "code",
   "execution_count": 5,
   "metadata": {},
   "outputs": [
    {
     "name": "stderr",
     "output_type": "stream",
     "text": [
      "c:\\Users\\FooJacky\\anaconda3\\lib\\site-packages\\plotly\\express\\_core.py:1637: FutureWarning: The frame.append method is deprecated and will be removed from pandas in a future version. Use pandas.concat instead.\n",
      "  df_all_trees = df_all_trees.append(df_tree, ignore_index=True)\n",
      "c:\\Users\\FooJacky\\anaconda3\\lib\\site-packages\\plotly\\express\\_core.py:1637: FutureWarning: The frame.append method is deprecated and will be removed from pandas in a future version. Use pandas.concat instead.\n",
      "  df_all_trees = df_all_trees.append(df_tree, ignore_index=True)\n"
     ]
    },
    {
     "data": {
      "application/vnd.plotly.v1+json": {
       "config": {
        "plotlyServerURL": "https://plot.ly"
       },
       "data": [
        {
         "branchvalues": "total",
         "domain": {
          "x": [
           0,
           1
          ],
          "y": [
           0,
           1
          ]
         },
         "hovertemplate": "labels=%{label}<br>Total vaccinations=%{value}<br>parent=%{parent}<br>id=%{id}<extra></extra>",
         "ids": [
          "Johnson&Johnson, Oxford/AstraZeneca, Pfizer/BioNTech, Sinopharm/Beijing/Afghanistan",
          "Oxford/AstraZeneca, Pfizer/BioNTech, Sinovac, Sputnik V/Albania",
          "Oxford/AstraZeneca, Sinopharm/Beijing, Sinovac, Sputnik V/Algeria",
          "Moderna, Oxford/AstraZeneca, Pfizer/BioNTech/Andorra",
          "Oxford/AstraZeneca/Angola",
          "Oxford/AstraZeneca, Pfizer/BioNTech/Anguilla",
          "Oxford/AstraZeneca, Pfizer/BioNTech, Sputnik V/Antigua and Barbuda",
          "CanSino, Moderna, Oxford/AstraZeneca, Pfizer/BioNTech, Sinopharm/Beijing, Sputnik V/Argentina",
          "Moderna, Oxford/AstraZeneca, Sinopharm/Beijing, Sinovac, Sputnik V/Armenia",
          "Pfizer/BioNTech/Aruba",
          "Moderna, Oxford/AstraZeneca, Pfizer/BioNTech/Australia",
          "Johnson&Johnson, Moderna, Novavax, Oxford/AstraZeneca, Pfizer/BioNTech/Austria",
          "Oxford/AstraZeneca, Pfizer/BioNTech, Sinovac, Sputnik V/Azerbaijan",
          "Johnson&Johnson, Oxford/AstraZeneca, Pfizer/BioNTech/Bahamas",
          "Johnson&Johnson, Moderna, Oxford/AstraZeneca, Pfizer/BioNTech, Sinopharm/Beijing, Sputnik Light, Sputnik V/Bahrain",
          "Johnson&Johnson, Moderna, Oxford/AstraZeneca, Pfizer/BioNTech, Sinopharm/Beijing, Sinovac/Bangladesh",
          "Oxford/AstraZeneca, Pfizer/BioNTech, Sinopharm/Beijing/Barbados",
          "Sinopharm/Beijing, Sputnik V/Belarus",
          "Johnson&Johnson, Moderna, Oxford/AstraZeneca, Pfizer/BioNTech/Belgium",
          "Johnson&Johnson, Oxford/AstraZeneca, Pfizer/BioNTech, Sinopharm/Beijing/Belize",
          "Johnson&Johnson, Oxford/AstraZeneca, Pfizer/BioNTech, Sinovac/Benin",
          "Oxford/AstraZeneca, Pfizer/BioNTech/Bermuda",
          "Moderna, Oxford/AstraZeneca, Pfizer/BioNTech, Sinopharm/Beijing/Bhutan",
          "Johnson&Johnson, Oxford/AstraZeneca, Pfizer/BioNTech, Sinopharm/Beijing, Sputnik V/Bolivia",
          "Moderna, Pfizer/BioNTech/Bonaire Sint Eustatius and Saba",
          "Oxford/AstraZeneca, Pfizer/BioNTech, Sinovac, Sputnik V/Bosnia and Herzegovina",
          "Covaxin, Johnson&Johnson, Moderna, Oxford/AstraZeneca, Pfizer/BioNTech, Sinovac/Botswana",
          "Johnson&Johnson, Oxford/AstraZeneca, Pfizer/BioNTech, Sinovac/Brazil",
          "Johnson&Johnson, Oxford/AstraZeneca/British Virgin Islands",
          "Johnson&Johnson, Moderna, Oxford/AstraZeneca, Pfizer/BioNTech, Sinopharm/Beijing/Brunei",
          "Johnson&Johnson, Moderna, Oxford/AstraZeneca, Pfizer/BioNTech/Bulgaria",
          "Johnson&Johnson, Oxford/AstraZeneca, Sinopharm/Beijing/Burkina Faso",
          "Sinopharm/Beijing/Burundi",
          "Johnson&Johnson, Oxford/AstraZeneca, Sinopharm/Beijing, Sinovac/Cambodia",
          "Johnson&Johnson, Oxford/AstraZeneca, Pfizer/BioNTech, Sinopharm/Beijing/Cameroon",
          "Johnson&Johnson, Moderna, Oxford/AstraZeneca, Pfizer/BioNTech/Canada",
          "Moderna, Oxford/AstraZeneca, Pfizer/BioNTech, Sinopharm/Beijing/Cape Verde",
          "Oxford/AstraZeneca, Pfizer/BioNTech/Cayman Islands",
          "Covaxin, Oxford/AstraZeneca/Central African Republic",
          "Sinopharm/Beijing/Chad",
          "CanSino, Oxford/AstraZeneca, Pfizer/BioNTech, Sinovac/Chile",
          "CanSino, Sinopharm/Beijing, Sinopharm/Wuhan, Sinovac, ZF2001/China",
          "Johnson&Johnson, Moderna, Oxford/AstraZeneca, Pfizer/BioNTech, Sinovac/Colombia",
          "Covaxin, Oxford/AstraZeneca, Sinopharm/Beijing/Comoros",
          "Moderna, Oxford/AstraZeneca, Sinopharm/Beijing, Sputnik V/Congo",
          "Pfizer/BioNTech/Cook Islands",
          "Oxford/AstraZeneca, Pfizer/BioNTech/Costa Rica",
          "Johnson&Johnson, Oxford/AstraZeneca, Pfizer/BioNTech, Sinopharm/Beijing, Sputnik V/Cote d'Ivoire",
          "Johnson&Johnson, Moderna, Oxford/AstraZeneca, Pfizer/BioNTech/Croatia",
          "Abdala, Soberana Plus, Soberana02/Cuba",
          "Moderna, Pfizer/BioNTech/Curacao",
          "Johnson&Johnson, Moderna, Oxford/AstraZeneca, Pfizer/BioNTech/Cyprus",
          "Johnson&Johnson, Moderna, Novavax, Oxford/AstraZeneca, Pfizer/BioNTech/Czechia",
          "Oxford/AstraZeneca/Democratic Republic of Congo",
          "Johnson&Johnson, Moderna, Pfizer/BioNTech/Denmark",
          "Johnson&Johnson, Oxford/AstraZeneca, Pfizer/BioNTech, Sinopharm/Beijing, Sinovac, Sputnik V/Djibouti",
          "Oxford/AstraZeneca, Pfizer/BioNTech, Sinopharm/Beijing/Dominica",
          "Oxford/AstraZeneca, Pfizer/BioNTech, Sinopharm/Beijing, Sinovac/Dominican Republic",
          "CanSino, Oxford/AstraZeneca, Pfizer/BioNTech, Sinovac/Ecuador",
          "Johnson&Johnson, Oxford/AstraZeneca, Pfizer/BioNTech, Sinopharm/Beijing, Sinovac, Sputnik V/Egypt",
          "Oxford/AstraZeneca, Pfizer/BioNTech, Sinopharm/Beijing, Sinovac/El Salvador",
          "Moderna, Oxford/AstraZeneca, Pfizer/BioNTech/England",
          "Sinopharm/Beijing/Equatorial Guinea",
          "Johnson&Johnson, Moderna, Oxford/AstraZeneca, Pfizer/BioNTech/Estonia",
          "Johnson&Johnson, Oxford/AstraZeneca, Pfizer/BioNTech/Eswatini",
          "Covaxin, Johnson&Johnson, Oxford/AstraZeneca, Sinopharm/Beijing, Sinovac/Ethiopia",
          "Moderna, Pfizer/BioNTech/Faeroe Islands",
          "Oxford/AstraZeneca/Falkland Islands",
          "Moderna, Oxford/AstraZeneca, Pfizer/BioNTech/Fiji",
          "Moderna, Oxford/AstraZeneca, Pfizer/BioNTech/Finland",
          "Johnson&Johnson, Moderna, Oxford/AstraZeneca, Pfizer/BioNTech/France",
          "Johnson&Johnson, Pfizer/BioNTech/French Polynesia",
          "Pfizer/BioNTech, Sinopharm/Beijing, Sputnik V/Gabon",
          "Johnson&Johnson, Oxford/AstraZeneca, Sinopharm/Beijing/Gambia",
          "Oxford/AstraZeneca, Pfizer/BioNTech, Sinopharm/Beijing, Sinovac/Georgia",
          "Johnson&Johnson, Moderna, Novavax, Oxford/AstraZeneca, Pfizer/BioNTech/Germany",
          "Oxford/AstraZeneca, Sputnik V/Ghana",
          "Oxford/AstraZeneca, Pfizer/BioNTech/Gibraltar",
          "Johnson&Johnson, Moderna, Oxford/AstraZeneca, Pfizer/BioNTech/Greece",
          "Moderna/Greenland",
          "Johnson&Johnson, Oxford/AstraZeneca, Pfizer/BioNTech/Grenada",
          "Moderna, Oxford/AstraZeneca, Pfizer/BioNTech, Sputnik V/Guatemala",
          "Moderna, Oxford/AstraZeneca, Pfizer/BioNTech/Guernsey",
          "Johnson&Johnson, Oxford/AstraZeneca, Pfizer/BioNTech, Sinopharm/Beijing, Sinovac, Sputnik V/Guinea",
          "Oxford/AstraZeneca, Sinopharm/Beijing/Guinea-Bissau",
          "Moderna, Oxford/AstraZeneca, Pfizer/BioNTech, Sinopharm/Beijing, Sputnik V/Guyana",
          "Johnson&Johnson, Moderna/Haiti",
          "Johnson&Johnson, Moderna, Oxford/AstraZeneca, Pfizer/BioNTech, Sputnik V/Honduras",
          "Pfizer/BioNTech, Sinovac/Hong Kong",
          "Johnson&Johnson, Moderna, Oxford/AstraZeneca, Pfizer/BioNTech, Sinopharm/Beijing, Sputnik V/Hungary",
          "Johnson&Johnson, Moderna, Oxford/AstraZeneca, Pfizer/BioNTech/Iceland",
          "Covaxin, Oxford/AstraZeneca, Sputnik V/India",
          "Johnson&Johnson, Moderna, Novavax, Oxford/AstraZeneca, Pfizer/BioNTech, Sinopharm/Beijing, Sinovac/Indonesia",
          "COVIran Barekat, Covaxin, FAKHRAVAC, Oxford/AstraZeneca, Razi Cov Pars, Sinopharm/Beijing, Soberana02, SpikoGen, Sputnik V/Iran",
          "Oxford/AstraZeneca, Pfizer/BioNTech, Sinopharm/Beijing, Sputnik V/Iraq",
          "Johnson&Johnson, Moderna, Oxford/AstraZeneca, Pfizer/BioNTech/Ireland",
          "Moderna, Oxford/AstraZeneca, Pfizer/BioNTech/Isle of Man",
          "Moderna, Pfizer/BioNTech/Israel",
          "Johnson&Johnson, Moderna, Novavax, Oxford/AstraZeneca, Pfizer/BioNTech/Italy",
          "Johnson&Johnson, Moderna, Oxford/AstraZeneca, Pfizer/BioNTech/Jamaica",
          "Moderna, Oxford/AstraZeneca, Pfizer/BioNTech/Japan",
          "Moderna, Oxford/AstraZeneca, Pfizer/BioNTech/Jersey",
          "Johnson&Johnson, Moderna, Oxford/AstraZeneca, Pfizer/BioNTech, Sinopharm/Beijing, Sputnik V/Jordan",
          "QazVac, Sinopharm/Beijing, Sputnik V/Kazakhstan",
          "Johnson&Johnson, Moderna, Oxford/AstraZeneca, Pfizer/BioNTech, Sinopharm/Beijing/Kenya",
          "Oxford/AstraZeneca/Kiribati",
          "Oxford/AstraZeneca, Pfizer/BioNTech/Kosovo",
          "Johnson&Johnson, Moderna, Oxford/AstraZeneca, Pfizer/BioNTech, Sinopharm/Beijing/Kuwait",
          "Sinopharm/Beijing, Sputnik V/Kyrgyzstan",
          "Johnson&Johnson, Oxford/AstraZeneca, Pfizer/BioNTech, Sinopharm/Beijing, Sinovac, Sputnik Light, Sputnik V/Laos",
          "Johnson&Johnson, Moderna, Novavax, Pfizer/BioNTech/Latvia",
          "Oxford/AstraZeneca, Pfizer/BioNTech, Sinopharm/Beijing, Sputnik V/Lebanon",
          "Johnson&Johnson, Oxford/AstraZeneca, Sinopharm/Beijing/Lesotho",
          "Oxford/AstraZeneca/Liberia",
          "Oxford/AstraZeneca, Pfizer/BioNTech, Sinopharm/Beijing, Sinovac, Sputnik V/Libya",
          "Johnson&Johnson, Moderna, Pfizer/BioNTech/Liechtenstein",
          "Johnson&Johnson, Moderna, Novavax, Oxford/AstraZeneca, Pfizer/BioNTech/Lithuania",
          "Johnson&Johnson, Moderna, Oxford/AstraZeneca, Pfizer/BioNTech/Luxembourg",
          "Pfizer/BioNTech, Sinopharm/Beijing/Macao",
          "Johnson&Johnson, Oxford/AstraZeneca, Sinopharm/Beijing/Madagascar",
          "Johnson&Johnson, Oxford/AstraZeneca/Malawi",
          "CanSino, Oxford/AstraZeneca, Pfizer/BioNTech, Sinopharm/Beijing, Sinovac/Malaysia",
          "Oxford/AstraZeneca, Pfizer/BioNTech, Sinopharm/Beijing/Maldives",
          "Oxford/AstraZeneca/Mali",
          "Johnson&Johnson, Moderna, Oxford/AstraZeneca, Pfizer/BioNTech/Malta",
          "Oxford/AstraZeneca, Sinopharm/Beijing/Mauritania",
          "Covaxin, Oxford/AstraZeneca, Sinopharm/Beijing/Mauritius",
          "CanSino, Johnson&Johnson, Moderna, Oxford/AstraZeneca, Pfizer/BioNTech, Sinovac, Sputnik V/Mexico",
          "Johnson&Johnson, Oxford/AstraZeneca, Pfizer/BioNTech, Sinopharm/Beijing, Sputnik V/Moldova",
          "Pfizer/BioNTech/Monaco",
          "Oxford/AstraZeneca, Pfizer/BioNTech, Sinopharm/Beijing, Sputnik V/Mongolia",
          "Oxford/AstraZeneca, Pfizer/BioNTech, Sinopharm/Beijing, Sputnik V/Montenegro",
          "Oxford/AstraZeneca/Montserrat",
          "Johnson&Johnson, Oxford/AstraZeneca, Pfizer/BioNTech, Sinopharm/Beijing, Sputnik V/Morocco",
          "Johnson&Johnson, Oxford/AstraZeneca, Sinopharm/Beijing/Mozambique",
          "Oxford/AstraZeneca, Sinopharm/Beijing/Myanmar",
          "Johnson&Johnson, Oxford/AstraZeneca, Pfizer/BioNTech, Sinopharm/Beijing/Namibia",
          "Oxford/AstraZeneca/Nauru",
          "Johnson&Johnson, Moderna, Oxford/AstraZeneca, Pfizer/BioNTech, Sinopharm/Beijing/Nepal",
          "Johnson&Johnson, Moderna, Novavax, Oxford/AstraZeneca, Pfizer/BioNTech/Netherlands",
          "Pfizer/BioNTech/New Caledonia",
          "Oxford/AstraZeneca, Pfizer/BioNTech/New Zealand",
          "Abdala, Johnson&Johnson, Oxford/AstraZeneca, Pfizer/BioNTech, Soberana02, Sputnik Light, Sputnik V/Nicaragua",
          "Oxford/AstraZeneca, Sinopharm/Beijing/Niger",
          "Oxford/AstraZeneca/Nigeria",
          "Pfizer/BioNTech/Niue",
          "Oxford/AstraZeneca, Pfizer/BioNTech, Sinopharm/Beijing, Sinovac, Sputnik V/North Macedonia",
          "Oxford/AstraZeneca, Pfizer/BioNTech, Sinovac/Northern Cyprus",
          "Moderna, Oxford/AstraZeneca, Pfizer/BioNTech/Northern Ireland",
          "Moderna, Pfizer/BioNTech/Norway",
          "Oxford/AstraZeneca, Pfizer/BioNTech, Sinovac, Sputnik V/Oman",
          "CanSino, Covaxin, Moderna, Oxford/AstraZeneca, Pfizer/BioNTech, Sinopharm/Beijing, Sinovac, Sputnik V/Pakistan",
          "Johnson&Johnson, Moderna, Oxford/AstraZeneca, Pfizer/BioNTech, Sinopharm/Beijing, Sinovac, Sputnik Light, Sputnik V/Palestine",
          "Oxford/AstraZeneca, Pfizer/BioNTech/Panama",
          "Oxford/AstraZeneca/Papua New Guinea",
          "Covaxin, Moderna, Oxford/AstraZeneca, Pfizer/BioNTech, Sinopharm/Beijing, Sinovac, Sputnik V/Paraguay",
          "Oxford/AstraZeneca, Pfizer/BioNTech, Sinopharm/Beijing/Peru",
          "Johnson&Johnson, Moderna, Oxford/AstraZeneca, Pfizer/BioNTech, Sinopharm/Beijing, Sinovac, Sputnik Light, Sputnik V/Philippines",
          "Oxford/AstraZeneca/Pitcairn",
          "Johnson&Johnson, Moderna, Oxford/AstraZeneca, Pfizer/BioNTech/Poland",
          "Johnson&Johnson, Moderna, Oxford/AstraZeneca, Pfizer/BioNTech/Portugal",
          "Moderna, Pfizer/BioNTech/Qatar",
          "Johnson&Johnson, Moderna, Oxford/AstraZeneca, Pfizer/BioNTech/Romania",
          "EpiVacCorona, Sputnik V/Russia",
          "Johnson&Johnson, Moderna, Oxford/AstraZeneca, Pfizer/BioNTech, Sinopharm/Beijing, Sinovac, Sputnik V/Rwanda",
          "Oxford/AstraZeneca/Saint Helena",
          "Oxford/AstraZeneca, Pfizer/BioNTech/Saint Kitts and Nevis",
          "Oxford/AstraZeneca, Pfizer/BioNTech/Saint Lucia",
          "Oxford/AstraZeneca/Saint Vincent and the Grenadines",
          "Oxford/AstraZeneca/Samoa",
          "Pfizer/BioNTech, Sputnik V/San Marino",
          "Oxford/AstraZeneca/Sao Tome and Principe",
          "Oxford/AstraZeneca, Pfizer/BioNTech/Saudi Arabia",
          "Moderna, Oxford/AstraZeneca, Pfizer/BioNTech/Scotland",
          "Johnson&Johnson, Oxford/AstraZeneca, Sinopharm/Beijing/Senegal",
          "Oxford/AstraZeneca, Pfizer/BioNTech, Sinopharm/Beijing, Sputnik V/Serbia",
          "Oxford/AstraZeneca, Sinopharm/Beijing, Sputnik V/Seychelles",
          "Oxford/AstraZeneca, Sinopharm/Beijing/Sierra Leone",
          "Moderna, Pfizer/BioNTech, Sinopharm/Beijing, Sinovac/Singapore",
          "Moderna, Oxford/AstraZeneca, Pfizer/BioNTech/Sint Maarten (Dutch part)",
          "Johnson&Johnson, Moderna, Novavax, Oxford/AstraZeneca, Pfizer/BioNTech, Sputnik V/Slovakia",
          "Johnson&Johnson, Moderna, Novavax, Oxford/AstraZeneca, Pfizer/BioNTech/Slovenia",
          "Oxford/AstraZeneca/Solomon Islands",
          "Johnson&Johnson, Oxford/AstraZeneca, Sinopharm/Beijing, Sinovac/Somalia",
          "Johnson&Johnson, Pfizer/BioNTech/South Africa",
          "Johnson&Johnson, Moderna, Novavax, Oxford/AstraZeneca, Pfizer/BioNTech/South Korea",
          "Johnson&Johnson, Oxford/AstraZeneca/South Sudan",
          "Johnson&Johnson, Moderna, Oxford/AstraZeneca, Pfizer/BioNTech/Spain",
          "Moderna, Oxford/AstraZeneca, Pfizer/BioNTech, Sinopharm/Beijing, Sputnik V/Sri Lanka",
          "Johnson&Johnson, Oxford/AstraZeneca, Pfizer/BioNTech, Sinopharm/Beijing, Sinovac/Sudan",
          "Oxford/AstraZeneca, Pfizer/BioNTech, Sinopharm/Beijing/Suriname",
          "Moderna, Oxford/AstraZeneca, Pfizer/BioNTech/Sweden",
          "Johnson&Johnson, Moderna, Pfizer/BioNTech/Switzerland",
          "Johnson&Johnson, Oxford/AstraZeneca, Sinopharm/Beijing, Sinovac, Sputnik Light, Sputnik V/Syria",
          "Medigen, Moderna, Oxford/AstraZeneca, Pfizer/BioNTech/Taiwan",
          "Moderna, Oxford/AstraZeneca, Pfizer/BioNTech, Sinovac, Sputnik V/Tajikistan",
          "Johnson&Johnson, Pfizer/BioNTech, Sinopharm/Beijing/Tanzania",
          "Moderna, Oxford/AstraZeneca, Pfizer/BioNTech, Sinopharm/Beijing, Sinovac/Thailand",
          "Oxford/AstraZeneca, Pfizer/BioNTech, Sinovac/Timor",
          "Oxford/AstraZeneca/Togo",
          "Pfizer/BioNTech/Tokelau",
          "Oxford/AstraZeneca/Tonga",
          "Johnson&Johnson, Oxford/AstraZeneca, Pfizer/BioNTech, Sinopharm/Beijing/Trinidad and Tobago",
          "Johnson&Johnson, Moderna, Oxford/AstraZeneca, Pfizer/BioNTech, Sinopharm/Beijing, Sinovac, Sputnik V/Tunisia",
          "Pfizer/BioNTech, Sinovac, Turkovac/Turkey",
          "EpiVacCorona, Oxford/AstraZeneca, QazVac, Sinopharm/Beijing, Sputnik V, ZF2001/Turkmenistan",
          "Pfizer/BioNTech/Turks and Caicos Islands",
          "Oxford/AstraZeneca/Tuvalu",
          "Johnson&Johnson, Moderna, Oxford/AstraZeneca, Pfizer/BioNTech, Sinovac/Uganda",
          "Johnson&Johnson, Moderna, Oxford/AstraZeneca, Pfizer/BioNTech, Sinovac/Ukraine",
          "Oxford/AstraZeneca, Pfizer/BioNTech, Sinopharm/Beijing, Sinopharm/Wuhan, Sputnik V/United Arab Emirates",
          "Moderna, Oxford/AstraZeneca, Pfizer/BioNTech/United Kingdom",
          "Johnson&Johnson, Moderna, Pfizer/BioNTech/United States",
          "Oxford/AstraZeneca, Pfizer/BioNTech, Sinovac/Uruguay",
          "Moderna, Oxford/AstraZeneca, Pfizer/BioNTech, Sinovac, Sputnik Light, Sputnik V, ZF2001/Uzbekistan",
          "Oxford/AstraZeneca/Vanuatu",
          "Abdala, Sinopharm/Beijing, Sinovac, Soberana02, Sputnik Light, Sputnik V/Venezuela",
          "Abdala, Moderna, Oxford/AstraZeneca, Pfizer/BioNTech, Sinopharm/Beijing, Sputnik V/Vietnam",
          "Moderna, Oxford/AstraZeneca, Pfizer/BioNTech/Wales",
          "Moderna/Wallis and Futuna",
          "Johnson&Johnson, Oxford/AstraZeneca, Sinovac/Yemen",
          "Johnson&Johnson, Oxford/AstraZeneca, Sinopharm/Beijing/Zambia",
          "Oxford/AstraZeneca, Sinopharm/Beijing, Sinovac, Sputnik V/Zimbabwe",
          "Abdala, Johnson&Johnson, Oxford/AstraZeneca, Pfizer/BioNTech, Soberana02, Sputnik Light, Sputnik V",
          "Abdala, Moderna, Oxford/AstraZeneca, Pfizer/BioNTech, Sinopharm/Beijing, Sputnik V",
          "Abdala, Sinopharm/Beijing, Sinovac, Soberana02, Sputnik Light, Sputnik V",
          "Abdala, Soberana Plus, Soberana02",
          "COVIran Barekat, Covaxin, FAKHRAVAC, Oxford/AstraZeneca, Razi Cov Pars, Sinopharm/Beijing, Soberana02, SpikoGen, Sputnik V",
          "CanSino, Covaxin, Moderna, Oxford/AstraZeneca, Pfizer/BioNTech, Sinopharm/Beijing, Sinovac, Sputnik V",
          "CanSino, Johnson&Johnson, Moderna, Oxford/AstraZeneca, Pfizer/BioNTech, Sinovac, Sputnik V",
          "CanSino, Moderna, Oxford/AstraZeneca, Pfizer/BioNTech, Sinopharm/Beijing, Sputnik V",
          "CanSino, Oxford/AstraZeneca, Pfizer/BioNTech, Sinopharm/Beijing, Sinovac",
          "CanSino, Oxford/AstraZeneca, Pfizer/BioNTech, Sinovac",
          "CanSino, Sinopharm/Beijing, Sinopharm/Wuhan, Sinovac, ZF2001",
          "Covaxin, Johnson&Johnson, Moderna, Oxford/AstraZeneca, Pfizer/BioNTech, Sinovac",
          "Covaxin, Johnson&Johnson, Oxford/AstraZeneca, Sinopharm/Beijing, Sinovac",
          "Covaxin, Moderna, Oxford/AstraZeneca, Pfizer/BioNTech, Sinopharm/Beijing, Sinovac, Sputnik V",
          "Covaxin, Oxford/AstraZeneca",
          "Covaxin, Oxford/AstraZeneca, Sinopharm/Beijing",
          "Covaxin, Oxford/AstraZeneca, Sputnik V",
          "EpiVacCorona, Oxford/AstraZeneca, QazVac, Sinopharm/Beijing, Sputnik V, ZF2001",
          "EpiVacCorona, Sputnik V",
          "Johnson&Johnson, Moderna",
          "Johnson&Johnson, Moderna, Novavax, Oxford/AstraZeneca, Pfizer/BioNTech",
          "Johnson&Johnson, Moderna, Novavax, Oxford/AstraZeneca, Pfizer/BioNTech, Sinopharm/Beijing, Sinovac",
          "Johnson&Johnson, Moderna, Novavax, Oxford/AstraZeneca, Pfizer/BioNTech, Sputnik V",
          "Johnson&Johnson, Moderna, Novavax, Pfizer/BioNTech",
          "Johnson&Johnson, Moderna, Oxford/AstraZeneca, Pfizer/BioNTech",
          "Johnson&Johnson, Moderna, Oxford/AstraZeneca, Pfizer/BioNTech, Sinopharm/Beijing",
          "Johnson&Johnson, Moderna, Oxford/AstraZeneca, Pfizer/BioNTech, Sinopharm/Beijing, Sinovac",
          "Johnson&Johnson, Moderna, Oxford/AstraZeneca, Pfizer/BioNTech, Sinopharm/Beijing, Sinovac, Sputnik Light, Sputnik V",
          "Johnson&Johnson, Moderna, Oxford/AstraZeneca, Pfizer/BioNTech, Sinopharm/Beijing, Sinovac, Sputnik V",
          "Johnson&Johnson, Moderna, Oxford/AstraZeneca, Pfizer/BioNTech, Sinopharm/Beijing, Sputnik Light, Sputnik V",
          "Johnson&Johnson, Moderna, Oxford/AstraZeneca, Pfizer/BioNTech, Sinopharm/Beijing, Sputnik V",
          "Johnson&Johnson, Moderna, Oxford/AstraZeneca, Pfizer/BioNTech, Sinovac",
          "Johnson&Johnson, Moderna, Oxford/AstraZeneca, Pfizer/BioNTech, Sputnik V",
          "Johnson&Johnson, Moderna, Pfizer/BioNTech",
          "Johnson&Johnson, Oxford/AstraZeneca",
          "Johnson&Johnson, Oxford/AstraZeneca, Pfizer/BioNTech",
          "Johnson&Johnson, Oxford/AstraZeneca, Pfizer/BioNTech, Sinopharm/Beijing",
          "Johnson&Johnson, Oxford/AstraZeneca, Pfizer/BioNTech, Sinopharm/Beijing, Sinovac",
          "Johnson&Johnson, Oxford/AstraZeneca, Pfizer/BioNTech, Sinopharm/Beijing, Sinovac, Sputnik Light, Sputnik V",
          "Johnson&Johnson, Oxford/AstraZeneca, Pfizer/BioNTech, Sinopharm/Beijing, Sinovac, Sputnik V",
          "Johnson&Johnson, Oxford/AstraZeneca, Pfizer/BioNTech, Sinopharm/Beijing, Sputnik V",
          "Johnson&Johnson, Oxford/AstraZeneca, Pfizer/BioNTech, Sinovac",
          "Johnson&Johnson, Oxford/AstraZeneca, Sinopharm/Beijing",
          "Johnson&Johnson, Oxford/AstraZeneca, Sinopharm/Beijing, Sinovac",
          "Johnson&Johnson, Oxford/AstraZeneca, Sinopharm/Beijing, Sinovac, Sputnik Light, Sputnik V",
          "Johnson&Johnson, Oxford/AstraZeneca, Sinovac",
          "Johnson&Johnson, Pfizer/BioNTech",
          "Johnson&Johnson, Pfizer/BioNTech, Sinopharm/Beijing",
          "Medigen, Moderna, Oxford/AstraZeneca, Pfizer/BioNTech",
          "Moderna",
          "Moderna, Oxford/AstraZeneca, Pfizer/BioNTech",
          "Moderna, Oxford/AstraZeneca, Pfizer/BioNTech, Sinopharm/Beijing",
          "Moderna, Oxford/AstraZeneca, Pfizer/BioNTech, Sinopharm/Beijing, Sinovac",
          "Moderna, Oxford/AstraZeneca, Pfizer/BioNTech, Sinopharm/Beijing, Sputnik V",
          "Moderna, Oxford/AstraZeneca, Pfizer/BioNTech, Sinovac, Sputnik Light, Sputnik V, ZF2001",
          "Moderna, Oxford/AstraZeneca, Pfizer/BioNTech, Sinovac, Sputnik V",
          "Moderna, Oxford/AstraZeneca, Pfizer/BioNTech, Sputnik V",
          "Moderna, Oxford/AstraZeneca, Sinopharm/Beijing, Sinovac, Sputnik V",
          "Moderna, Oxford/AstraZeneca, Sinopharm/Beijing, Sputnik V",
          "Moderna, Pfizer/BioNTech",
          "Moderna, Pfizer/BioNTech, Sinopharm/Beijing, Sinovac",
          "Oxford/AstraZeneca",
          "Oxford/AstraZeneca, Pfizer/BioNTech",
          "Oxford/AstraZeneca, Pfizer/BioNTech, Sinopharm/Beijing",
          "Oxford/AstraZeneca, Pfizer/BioNTech, Sinopharm/Beijing, Sinopharm/Wuhan, Sputnik V",
          "Oxford/AstraZeneca, Pfizer/BioNTech, Sinopharm/Beijing, Sinovac",
          "Oxford/AstraZeneca, Pfizer/BioNTech, Sinopharm/Beijing, Sinovac, Sputnik V",
          "Oxford/AstraZeneca, Pfizer/BioNTech, Sinopharm/Beijing, Sputnik V",
          "Oxford/AstraZeneca, Pfizer/BioNTech, Sinovac",
          "Oxford/AstraZeneca, Pfizer/BioNTech, Sinovac, Sputnik V",
          "Oxford/AstraZeneca, Pfizer/BioNTech, Sputnik V",
          "Oxford/AstraZeneca, Sinopharm/Beijing",
          "Oxford/AstraZeneca, Sinopharm/Beijing, Sinovac, Sputnik V",
          "Oxford/AstraZeneca, Sinopharm/Beijing, Sputnik V",
          "Oxford/AstraZeneca, Sputnik V",
          "Pfizer/BioNTech",
          "Pfizer/BioNTech, Sinopharm/Beijing",
          "Pfizer/BioNTech, Sinopharm/Beijing, Sputnik V",
          "Pfizer/BioNTech, Sinovac",
          "Pfizer/BioNTech, Sinovac, Turkovac",
          "Pfizer/BioNTech, Sputnik V",
          "QazVac, Sinopharm/Beijing, Sputnik V",
          "Sinopharm/Beijing",
          "Sinopharm/Beijing, Sputnik V"
         ],
         "labels": [
          "Afghanistan",
          "Albania",
          "Algeria",
          "Andorra",
          "Angola",
          "Anguilla",
          "Antigua and Barbuda",
          "Argentina",
          "Armenia",
          "Aruba",
          "Australia",
          "Austria",
          "Azerbaijan",
          "Bahamas",
          "Bahrain",
          "Bangladesh",
          "Barbados",
          "Belarus",
          "Belgium",
          "Belize",
          "Benin",
          "Bermuda",
          "Bhutan",
          "Bolivia",
          "Bonaire Sint Eustatius and Saba",
          "Bosnia and Herzegovina",
          "Botswana",
          "Brazil",
          "British Virgin Islands",
          "Brunei",
          "Bulgaria",
          "Burkina Faso",
          "Burundi",
          "Cambodia",
          "Cameroon",
          "Canada",
          "Cape Verde",
          "Cayman Islands",
          "Central African Republic",
          "Chad",
          "Chile",
          "China",
          "Colombia",
          "Comoros",
          "Congo",
          "Cook Islands",
          "Costa Rica",
          "Cote d'Ivoire",
          "Croatia",
          "Cuba",
          "Curacao",
          "Cyprus",
          "Czechia",
          "Democratic Republic of Congo",
          "Denmark",
          "Djibouti",
          "Dominica",
          "Dominican Republic",
          "Ecuador",
          "Egypt",
          "El Salvador",
          "England",
          "Equatorial Guinea",
          "Estonia",
          "Eswatini",
          "Ethiopia",
          "Faeroe Islands",
          "Falkland Islands",
          "Fiji",
          "Finland",
          "France",
          "French Polynesia",
          "Gabon",
          "Gambia",
          "Georgia",
          "Germany",
          "Ghana",
          "Gibraltar",
          "Greece",
          "Greenland",
          "Grenada",
          "Guatemala",
          "Guernsey",
          "Guinea",
          "Guinea-Bissau",
          "Guyana",
          "Haiti",
          "Honduras",
          "Hong Kong",
          "Hungary",
          "Iceland",
          "India",
          "Indonesia",
          "Iran",
          "Iraq",
          "Ireland",
          "Isle of Man",
          "Israel",
          "Italy",
          "Jamaica",
          "Japan",
          "Jersey",
          "Jordan",
          "Kazakhstan",
          "Kenya",
          "Kiribati",
          "Kosovo",
          "Kuwait",
          "Kyrgyzstan",
          "Laos",
          "Latvia",
          "Lebanon",
          "Lesotho",
          "Liberia",
          "Libya",
          "Liechtenstein",
          "Lithuania",
          "Luxembourg",
          "Macao",
          "Madagascar",
          "Malawi",
          "Malaysia",
          "Maldives",
          "Mali",
          "Malta",
          "Mauritania",
          "Mauritius",
          "Mexico",
          "Moldova",
          "Monaco",
          "Mongolia",
          "Montenegro",
          "Montserrat",
          "Morocco",
          "Mozambique",
          "Myanmar",
          "Namibia",
          "Nauru",
          "Nepal",
          "Netherlands",
          "New Caledonia",
          "New Zealand",
          "Nicaragua",
          "Niger",
          "Nigeria",
          "Niue",
          "North Macedonia",
          "Northern Cyprus",
          "Northern Ireland",
          "Norway",
          "Oman",
          "Pakistan",
          "Palestine",
          "Panama",
          "Papua New Guinea",
          "Paraguay",
          "Peru",
          "Philippines",
          "Pitcairn",
          "Poland",
          "Portugal",
          "Qatar",
          "Romania",
          "Russia",
          "Rwanda",
          "Saint Helena",
          "Saint Kitts and Nevis",
          "Saint Lucia",
          "Saint Vincent and the Grenadines",
          "Samoa",
          "San Marino",
          "Sao Tome and Principe",
          "Saudi Arabia",
          "Scotland",
          "Senegal",
          "Serbia",
          "Seychelles",
          "Sierra Leone",
          "Singapore",
          "Sint Maarten (Dutch part)",
          "Slovakia",
          "Slovenia",
          "Solomon Islands",
          "Somalia",
          "South Africa",
          "South Korea",
          "South Sudan",
          "Spain",
          "Sri Lanka",
          "Sudan",
          "Suriname",
          "Sweden",
          "Switzerland",
          "Syria",
          "Taiwan",
          "Tajikistan",
          "Tanzania",
          "Thailand",
          "Timor",
          "Togo",
          "Tokelau",
          "Tonga",
          "Trinidad and Tobago",
          "Tunisia",
          "Turkey",
          "Turkmenistan",
          "Turks and Caicos Islands",
          "Tuvalu",
          "Uganda",
          "Ukraine",
          "United Arab Emirates",
          "United Kingdom",
          "United States",
          "Uruguay",
          "Uzbekistan",
          "Vanuatu",
          "Venezuela",
          "Vietnam",
          "Wales",
          "Wallis and Futuna",
          "Yemen",
          "Zambia",
          "Zimbabwe",
          "Abdala, Johnson&Johnson, Oxford/AstraZeneca, Pfizer/BioNTech, Soberana02, Sputnik Light, Sputnik V",
          "Abdala, Moderna, Oxford/AstraZeneca, Pfizer/BioNTech, Sinopharm/Beijing, Sputnik V",
          "Abdala, Sinopharm/Beijing, Sinovac, Soberana02, Sputnik Light, Sputnik V",
          "Abdala, Soberana Plus, Soberana02",
          "COVIran Barekat, Covaxin, FAKHRAVAC, Oxford/AstraZeneca, Razi Cov Pars, Sinopharm/Beijing, Soberana02, SpikoGen, Sputnik V",
          "CanSino, Covaxin, Moderna, Oxford/AstraZeneca, Pfizer/BioNTech, Sinopharm/Beijing, Sinovac, Sputnik V",
          "CanSino, Johnson&Johnson, Moderna, Oxford/AstraZeneca, Pfizer/BioNTech, Sinovac, Sputnik V",
          "CanSino, Moderna, Oxford/AstraZeneca, Pfizer/BioNTech, Sinopharm/Beijing, Sputnik V",
          "CanSino, Oxford/AstraZeneca, Pfizer/BioNTech, Sinopharm/Beijing, Sinovac",
          "CanSino, Oxford/AstraZeneca, Pfizer/BioNTech, Sinovac",
          "CanSino, Sinopharm/Beijing, Sinopharm/Wuhan, Sinovac, ZF2001",
          "Covaxin, Johnson&Johnson, Moderna, Oxford/AstraZeneca, Pfizer/BioNTech, Sinovac",
          "Covaxin, Johnson&Johnson, Oxford/AstraZeneca, Sinopharm/Beijing, Sinovac",
          "Covaxin, Moderna, Oxford/AstraZeneca, Pfizer/BioNTech, Sinopharm/Beijing, Sinovac, Sputnik V",
          "Covaxin, Oxford/AstraZeneca",
          "Covaxin, Oxford/AstraZeneca, Sinopharm/Beijing",
          "Covaxin, Oxford/AstraZeneca, Sputnik V",
          "EpiVacCorona, Oxford/AstraZeneca, QazVac, Sinopharm/Beijing, Sputnik V, ZF2001",
          "EpiVacCorona, Sputnik V",
          "Johnson&Johnson, Moderna",
          "Johnson&Johnson, Moderna, Novavax, Oxford/AstraZeneca, Pfizer/BioNTech",
          "Johnson&Johnson, Moderna, Novavax, Oxford/AstraZeneca, Pfizer/BioNTech, Sinopharm/Beijing, Sinovac",
          "Johnson&Johnson, Moderna, Novavax, Oxford/AstraZeneca, Pfizer/BioNTech, Sputnik V",
          "Johnson&Johnson, Moderna, Novavax, Pfizer/BioNTech",
          "Johnson&Johnson, Moderna, Oxford/AstraZeneca, Pfizer/BioNTech",
          "Johnson&Johnson, Moderna, Oxford/AstraZeneca, Pfizer/BioNTech, Sinopharm/Beijing",
          "Johnson&Johnson, Moderna, Oxford/AstraZeneca, Pfizer/BioNTech, Sinopharm/Beijing, Sinovac",
          "Johnson&Johnson, Moderna, Oxford/AstraZeneca, Pfizer/BioNTech, Sinopharm/Beijing, Sinovac, Sputnik Light, Sputnik V",
          "Johnson&Johnson, Moderna, Oxford/AstraZeneca, Pfizer/BioNTech, Sinopharm/Beijing, Sinovac, Sputnik V",
          "Johnson&Johnson, Moderna, Oxford/AstraZeneca, Pfizer/BioNTech, Sinopharm/Beijing, Sputnik Light, Sputnik V",
          "Johnson&Johnson, Moderna, Oxford/AstraZeneca, Pfizer/BioNTech, Sinopharm/Beijing, Sputnik V",
          "Johnson&Johnson, Moderna, Oxford/AstraZeneca, Pfizer/BioNTech, Sinovac",
          "Johnson&Johnson, Moderna, Oxford/AstraZeneca, Pfizer/BioNTech, Sputnik V",
          "Johnson&Johnson, Moderna, Pfizer/BioNTech",
          "Johnson&Johnson, Oxford/AstraZeneca",
          "Johnson&Johnson, Oxford/AstraZeneca, Pfizer/BioNTech",
          "Johnson&Johnson, Oxford/AstraZeneca, Pfizer/BioNTech, Sinopharm/Beijing",
          "Johnson&Johnson, Oxford/AstraZeneca, Pfizer/BioNTech, Sinopharm/Beijing, Sinovac",
          "Johnson&Johnson, Oxford/AstraZeneca, Pfizer/BioNTech, Sinopharm/Beijing, Sinovac, Sputnik Light, Sputnik V",
          "Johnson&Johnson, Oxford/AstraZeneca, Pfizer/BioNTech, Sinopharm/Beijing, Sinovac, Sputnik V",
          "Johnson&Johnson, Oxford/AstraZeneca, Pfizer/BioNTech, Sinopharm/Beijing, Sputnik V",
          "Johnson&Johnson, Oxford/AstraZeneca, Pfizer/BioNTech, Sinovac",
          "Johnson&Johnson, Oxford/AstraZeneca, Sinopharm/Beijing",
          "Johnson&Johnson, Oxford/AstraZeneca, Sinopharm/Beijing, Sinovac",
          "Johnson&Johnson, Oxford/AstraZeneca, Sinopharm/Beijing, Sinovac, Sputnik Light, Sputnik V",
          "Johnson&Johnson, Oxford/AstraZeneca, Sinovac",
          "Johnson&Johnson, Pfizer/BioNTech",
          "Johnson&Johnson, Pfizer/BioNTech, Sinopharm/Beijing",
          "Medigen, Moderna, Oxford/AstraZeneca, Pfizer/BioNTech",
          "Moderna",
          "Moderna, Oxford/AstraZeneca, Pfizer/BioNTech",
          "Moderna, Oxford/AstraZeneca, Pfizer/BioNTech, Sinopharm/Beijing",
          "Moderna, Oxford/AstraZeneca, Pfizer/BioNTech, Sinopharm/Beijing, Sinovac",
          "Moderna, Oxford/AstraZeneca, Pfizer/BioNTech, Sinopharm/Beijing, Sputnik V",
          "Moderna, Oxford/AstraZeneca, Pfizer/BioNTech, Sinovac, Sputnik Light, Sputnik V, ZF2001",
          "Moderna, Oxford/AstraZeneca, Pfizer/BioNTech, Sinovac, Sputnik V",
          "Moderna, Oxford/AstraZeneca, Pfizer/BioNTech, Sputnik V",
          "Moderna, Oxford/AstraZeneca, Sinopharm/Beijing, Sinovac, Sputnik V",
          "Moderna, Oxford/AstraZeneca, Sinopharm/Beijing, Sputnik V",
          "Moderna, Pfizer/BioNTech",
          "Moderna, Pfizer/BioNTech, Sinopharm/Beijing, Sinovac",
          "Oxford/AstraZeneca",
          "Oxford/AstraZeneca, Pfizer/BioNTech",
          "Oxford/AstraZeneca, Pfizer/BioNTech, Sinopharm/Beijing",
          "Oxford/AstraZeneca, Pfizer/BioNTech, Sinopharm/Beijing, Sinopharm/Wuhan, Sputnik V",
          "Oxford/AstraZeneca, Pfizer/BioNTech, Sinopharm/Beijing, Sinovac",
          "Oxford/AstraZeneca, Pfizer/BioNTech, Sinopharm/Beijing, Sinovac, Sputnik V",
          "Oxford/AstraZeneca, Pfizer/BioNTech, Sinopharm/Beijing, Sputnik V",
          "Oxford/AstraZeneca, Pfizer/BioNTech, Sinovac",
          "Oxford/AstraZeneca, Pfizer/BioNTech, Sinovac, Sputnik V",
          "Oxford/AstraZeneca, Pfizer/BioNTech, Sputnik V",
          "Oxford/AstraZeneca, Sinopharm/Beijing",
          "Oxford/AstraZeneca, Sinopharm/Beijing, Sinovac, Sputnik V",
          "Oxford/AstraZeneca, Sinopharm/Beijing, Sputnik V",
          "Oxford/AstraZeneca, Sputnik V",
          "Pfizer/BioNTech",
          "Pfizer/BioNTech, Sinopharm/Beijing",
          "Pfizer/BioNTech, Sinopharm/Beijing, Sputnik V",
          "Pfizer/BioNTech, Sinovac",
          "Pfizer/BioNTech, Sinovac, Turkovac",
          "Pfizer/BioNTech, Sputnik V",
          "QazVac, Sinopharm/Beijing, Sputnik V",
          "Sinopharm/Beijing",
          "Sinopharm/Beijing, Sputnik V"
         ],
         "name": "",
         "parents": [
          "Johnson&Johnson, Oxford/AstraZeneca, Pfizer/BioNTech, Sinopharm/Beijing",
          "Oxford/AstraZeneca, Pfizer/BioNTech, Sinovac, Sputnik V",
          "Oxford/AstraZeneca, Sinopharm/Beijing, Sinovac, Sputnik V",
          "Moderna, Oxford/AstraZeneca, Pfizer/BioNTech",
          "Oxford/AstraZeneca",
          "Oxford/AstraZeneca, Pfizer/BioNTech",
          "Oxford/AstraZeneca, Pfizer/BioNTech, Sputnik V",
          "CanSino, Moderna, Oxford/AstraZeneca, Pfizer/BioNTech, Sinopharm/Beijing, Sputnik V",
          "Moderna, Oxford/AstraZeneca, Sinopharm/Beijing, Sinovac, Sputnik V",
          "Pfizer/BioNTech",
          "Moderna, Oxford/AstraZeneca, Pfizer/BioNTech",
          "Johnson&Johnson, Moderna, Novavax, Oxford/AstraZeneca, Pfizer/BioNTech",
          "Oxford/AstraZeneca, Pfizer/BioNTech, Sinovac, Sputnik V",
          "Johnson&Johnson, Oxford/AstraZeneca, Pfizer/BioNTech",
          "Johnson&Johnson, Moderna, Oxford/AstraZeneca, Pfizer/BioNTech, Sinopharm/Beijing, Sputnik Light, Sputnik V",
          "Johnson&Johnson, Moderna, Oxford/AstraZeneca, Pfizer/BioNTech, Sinopharm/Beijing, Sinovac",
          "Oxford/AstraZeneca, Pfizer/BioNTech, Sinopharm/Beijing",
          "Sinopharm/Beijing, Sputnik V",
          "Johnson&Johnson, Moderna, Oxford/AstraZeneca, Pfizer/BioNTech",
          "Johnson&Johnson, Oxford/AstraZeneca, Pfizer/BioNTech, Sinopharm/Beijing",
          "Johnson&Johnson, Oxford/AstraZeneca, Pfizer/BioNTech, Sinovac",
          "Oxford/AstraZeneca, Pfizer/BioNTech",
          "Moderna, Oxford/AstraZeneca, Pfizer/BioNTech, Sinopharm/Beijing",
          "Johnson&Johnson, Oxford/AstraZeneca, Pfizer/BioNTech, Sinopharm/Beijing, Sputnik V",
          "Moderna, Pfizer/BioNTech",
          "Oxford/AstraZeneca, Pfizer/BioNTech, Sinovac, Sputnik V",
          "Covaxin, Johnson&Johnson, Moderna, Oxford/AstraZeneca, Pfizer/BioNTech, Sinovac",
          "Johnson&Johnson, Oxford/AstraZeneca, Pfizer/BioNTech, Sinovac",
          "Johnson&Johnson, Oxford/AstraZeneca",
          "Johnson&Johnson, Moderna, Oxford/AstraZeneca, Pfizer/BioNTech, Sinopharm/Beijing",
          "Johnson&Johnson, Moderna, Oxford/AstraZeneca, Pfizer/BioNTech",
          "Johnson&Johnson, Oxford/AstraZeneca, Sinopharm/Beijing",
          "Sinopharm/Beijing",
          "Johnson&Johnson, Oxford/AstraZeneca, Sinopharm/Beijing, Sinovac",
          "Johnson&Johnson, Oxford/AstraZeneca, Pfizer/BioNTech, Sinopharm/Beijing",
          "Johnson&Johnson, Moderna, Oxford/AstraZeneca, Pfizer/BioNTech",
          "Moderna, Oxford/AstraZeneca, Pfizer/BioNTech, Sinopharm/Beijing",
          "Oxford/AstraZeneca, Pfizer/BioNTech",
          "Covaxin, Oxford/AstraZeneca",
          "Sinopharm/Beijing",
          "CanSino, Oxford/AstraZeneca, Pfizer/BioNTech, Sinovac",
          "CanSino, Sinopharm/Beijing, Sinopharm/Wuhan, Sinovac, ZF2001",
          "Johnson&Johnson, Moderna, Oxford/AstraZeneca, Pfizer/BioNTech, Sinovac",
          "Covaxin, Oxford/AstraZeneca, Sinopharm/Beijing",
          "Moderna, Oxford/AstraZeneca, Sinopharm/Beijing, Sputnik V",
          "Pfizer/BioNTech",
          "Oxford/AstraZeneca, Pfizer/BioNTech",
          "Johnson&Johnson, Oxford/AstraZeneca, Pfizer/BioNTech, Sinopharm/Beijing, Sputnik V",
          "Johnson&Johnson, Moderna, Oxford/AstraZeneca, Pfizer/BioNTech",
          "Abdala, Soberana Plus, Soberana02",
          "Moderna, Pfizer/BioNTech",
          "Johnson&Johnson, Moderna, Oxford/AstraZeneca, Pfizer/BioNTech",
          "Johnson&Johnson, Moderna, Novavax, Oxford/AstraZeneca, Pfizer/BioNTech",
          "Oxford/AstraZeneca",
          "Johnson&Johnson, Moderna, Pfizer/BioNTech",
          "Johnson&Johnson, Oxford/AstraZeneca, Pfizer/BioNTech, Sinopharm/Beijing, Sinovac, Sputnik V",
          "Oxford/AstraZeneca, Pfizer/BioNTech, Sinopharm/Beijing",
          "Oxford/AstraZeneca, Pfizer/BioNTech, Sinopharm/Beijing, Sinovac",
          "CanSino, Oxford/AstraZeneca, Pfizer/BioNTech, Sinovac",
          "Johnson&Johnson, Oxford/AstraZeneca, Pfizer/BioNTech, Sinopharm/Beijing, Sinovac, Sputnik V",
          "Oxford/AstraZeneca, Pfizer/BioNTech, Sinopharm/Beijing, Sinovac",
          "Moderna, Oxford/AstraZeneca, Pfizer/BioNTech",
          "Sinopharm/Beijing",
          "Johnson&Johnson, Moderna, Oxford/AstraZeneca, Pfizer/BioNTech",
          "Johnson&Johnson, Oxford/AstraZeneca, Pfizer/BioNTech",
          "Covaxin, Johnson&Johnson, Oxford/AstraZeneca, Sinopharm/Beijing, Sinovac",
          "Moderna, Pfizer/BioNTech",
          "Oxford/AstraZeneca",
          "Moderna, Oxford/AstraZeneca, Pfizer/BioNTech",
          "Moderna, Oxford/AstraZeneca, Pfizer/BioNTech",
          "Johnson&Johnson, Moderna, Oxford/AstraZeneca, Pfizer/BioNTech",
          "Johnson&Johnson, Pfizer/BioNTech",
          "Pfizer/BioNTech, Sinopharm/Beijing, Sputnik V",
          "Johnson&Johnson, Oxford/AstraZeneca, Sinopharm/Beijing",
          "Oxford/AstraZeneca, Pfizer/BioNTech, Sinopharm/Beijing, Sinovac",
          "Johnson&Johnson, Moderna, Novavax, Oxford/AstraZeneca, Pfizer/BioNTech",
          "Oxford/AstraZeneca, Sputnik V",
          "Oxford/AstraZeneca, Pfizer/BioNTech",
          "Johnson&Johnson, Moderna, Oxford/AstraZeneca, Pfizer/BioNTech",
          "Moderna",
          "Johnson&Johnson, Oxford/AstraZeneca, Pfizer/BioNTech",
          "Moderna, Oxford/AstraZeneca, Pfizer/BioNTech, Sputnik V",
          "Moderna, Oxford/AstraZeneca, Pfizer/BioNTech",
          "Johnson&Johnson, Oxford/AstraZeneca, Pfizer/BioNTech, Sinopharm/Beijing, Sinovac, Sputnik V",
          "Oxford/AstraZeneca, Sinopharm/Beijing",
          "Moderna, Oxford/AstraZeneca, Pfizer/BioNTech, Sinopharm/Beijing, Sputnik V",
          "Johnson&Johnson, Moderna",
          "Johnson&Johnson, Moderna, Oxford/AstraZeneca, Pfizer/BioNTech, Sputnik V",
          "Pfizer/BioNTech, Sinovac",
          "Johnson&Johnson, Moderna, Oxford/AstraZeneca, Pfizer/BioNTech, Sinopharm/Beijing, Sputnik V",
          "Johnson&Johnson, Moderna, Oxford/AstraZeneca, Pfizer/BioNTech",
          "Covaxin, Oxford/AstraZeneca, Sputnik V",
          "Johnson&Johnson, Moderna, Novavax, Oxford/AstraZeneca, Pfizer/BioNTech, Sinopharm/Beijing, Sinovac",
          "COVIran Barekat, Covaxin, FAKHRAVAC, Oxford/AstraZeneca, Razi Cov Pars, Sinopharm/Beijing, Soberana02, SpikoGen, Sputnik V",
          "Oxford/AstraZeneca, Pfizer/BioNTech, Sinopharm/Beijing, Sputnik V",
          "Johnson&Johnson, Moderna, Oxford/AstraZeneca, Pfizer/BioNTech",
          "Moderna, Oxford/AstraZeneca, Pfizer/BioNTech",
          "Moderna, Pfizer/BioNTech",
          "Johnson&Johnson, Moderna, Novavax, Oxford/AstraZeneca, Pfizer/BioNTech",
          "Johnson&Johnson, Moderna, Oxford/AstraZeneca, Pfizer/BioNTech",
          "Moderna, Oxford/AstraZeneca, Pfizer/BioNTech",
          "Moderna, Oxford/AstraZeneca, Pfizer/BioNTech",
          "Johnson&Johnson, Moderna, Oxford/AstraZeneca, Pfizer/BioNTech, Sinopharm/Beijing, Sputnik V",
          "QazVac, Sinopharm/Beijing, Sputnik V",
          "Johnson&Johnson, Moderna, Oxford/AstraZeneca, Pfizer/BioNTech, Sinopharm/Beijing",
          "Oxford/AstraZeneca",
          "Oxford/AstraZeneca, Pfizer/BioNTech",
          "Johnson&Johnson, Moderna, Oxford/AstraZeneca, Pfizer/BioNTech, Sinopharm/Beijing",
          "Sinopharm/Beijing, Sputnik V",
          "Johnson&Johnson, Oxford/AstraZeneca, Pfizer/BioNTech, Sinopharm/Beijing, Sinovac, Sputnik Light, Sputnik V",
          "Johnson&Johnson, Moderna, Novavax, Pfizer/BioNTech",
          "Oxford/AstraZeneca, Pfizer/BioNTech, Sinopharm/Beijing, Sputnik V",
          "Johnson&Johnson, Oxford/AstraZeneca, Sinopharm/Beijing",
          "Oxford/AstraZeneca",
          "Oxford/AstraZeneca, Pfizer/BioNTech, Sinopharm/Beijing, Sinovac, Sputnik V",
          "Johnson&Johnson, Moderna, Pfizer/BioNTech",
          "Johnson&Johnson, Moderna, Novavax, Oxford/AstraZeneca, Pfizer/BioNTech",
          "Johnson&Johnson, Moderna, Oxford/AstraZeneca, Pfizer/BioNTech",
          "Pfizer/BioNTech, Sinopharm/Beijing",
          "Johnson&Johnson, Oxford/AstraZeneca, Sinopharm/Beijing",
          "Johnson&Johnson, Oxford/AstraZeneca",
          "CanSino, Oxford/AstraZeneca, Pfizer/BioNTech, Sinopharm/Beijing, Sinovac",
          "Oxford/AstraZeneca, Pfizer/BioNTech, Sinopharm/Beijing",
          "Oxford/AstraZeneca",
          "Johnson&Johnson, Moderna, Oxford/AstraZeneca, Pfizer/BioNTech",
          "Oxford/AstraZeneca, Sinopharm/Beijing",
          "Covaxin, Oxford/AstraZeneca, Sinopharm/Beijing",
          "CanSino, Johnson&Johnson, Moderna, Oxford/AstraZeneca, Pfizer/BioNTech, Sinovac, Sputnik V",
          "Johnson&Johnson, Oxford/AstraZeneca, Pfizer/BioNTech, Sinopharm/Beijing, Sputnik V",
          "Pfizer/BioNTech",
          "Oxford/AstraZeneca, Pfizer/BioNTech, Sinopharm/Beijing, Sputnik V",
          "Oxford/AstraZeneca, Pfizer/BioNTech, Sinopharm/Beijing, Sputnik V",
          "Oxford/AstraZeneca",
          "Johnson&Johnson, Oxford/AstraZeneca, Pfizer/BioNTech, Sinopharm/Beijing, Sputnik V",
          "Johnson&Johnson, Oxford/AstraZeneca, Sinopharm/Beijing",
          "Oxford/AstraZeneca, Sinopharm/Beijing",
          "Johnson&Johnson, Oxford/AstraZeneca, Pfizer/BioNTech, Sinopharm/Beijing",
          "Oxford/AstraZeneca",
          "Johnson&Johnson, Moderna, Oxford/AstraZeneca, Pfizer/BioNTech, Sinopharm/Beijing",
          "Johnson&Johnson, Moderna, Novavax, Oxford/AstraZeneca, Pfizer/BioNTech",
          "Pfizer/BioNTech",
          "Oxford/AstraZeneca, Pfizer/BioNTech",
          "Abdala, Johnson&Johnson, Oxford/AstraZeneca, Pfizer/BioNTech, Soberana02, Sputnik Light, Sputnik V",
          "Oxford/AstraZeneca, Sinopharm/Beijing",
          "Oxford/AstraZeneca",
          "Pfizer/BioNTech",
          "Oxford/AstraZeneca, Pfizer/BioNTech, Sinopharm/Beijing, Sinovac, Sputnik V",
          "Oxford/AstraZeneca, Pfizer/BioNTech, Sinovac",
          "Moderna, Oxford/AstraZeneca, Pfizer/BioNTech",
          "Moderna, Pfizer/BioNTech",
          "Oxford/AstraZeneca, Pfizer/BioNTech, Sinovac, Sputnik V",
          "CanSino, Covaxin, Moderna, Oxford/AstraZeneca, Pfizer/BioNTech, Sinopharm/Beijing, Sinovac, Sputnik V",
          "Johnson&Johnson, Moderna, Oxford/AstraZeneca, Pfizer/BioNTech, Sinopharm/Beijing, Sinovac, Sputnik Light, Sputnik V",
          "Oxford/AstraZeneca, Pfizer/BioNTech",
          "Oxford/AstraZeneca",
          "Covaxin, Moderna, Oxford/AstraZeneca, Pfizer/BioNTech, Sinopharm/Beijing, Sinovac, Sputnik V",
          "Oxford/AstraZeneca, Pfizer/BioNTech, Sinopharm/Beijing",
          "Johnson&Johnson, Moderna, Oxford/AstraZeneca, Pfizer/BioNTech, Sinopharm/Beijing, Sinovac, Sputnik Light, Sputnik V",
          "Oxford/AstraZeneca",
          "Johnson&Johnson, Moderna, Oxford/AstraZeneca, Pfizer/BioNTech",
          "Johnson&Johnson, Moderna, Oxford/AstraZeneca, Pfizer/BioNTech",
          "Moderna, Pfizer/BioNTech",
          "Johnson&Johnson, Moderna, Oxford/AstraZeneca, Pfizer/BioNTech",
          "EpiVacCorona, Sputnik V",
          "Johnson&Johnson, Moderna, Oxford/AstraZeneca, Pfizer/BioNTech, Sinopharm/Beijing, Sinovac, Sputnik V",
          "Oxford/AstraZeneca",
          "Oxford/AstraZeneca, Pfizer/BioNTech",
          "Oxford/AstraZeneca, Pfizer/BioNTech",
          "Oxford/AstraZeneca",
          "Oxford/AstraZeneca",
          "Pfizer/BioNTech, Sputnik V",
          "Oxford/AstraZeneca",
          "Oxford/AstraZeneca, Pfizer/BioNTech",
          "Moderna, Oxford/AstraZeneca, Pfizer/BioNTech",
          "Johnson&Johnson, Oxford/AstraZeneca, Sinopharm/Beijing",
          "Oxford/AstraZeneca, Pfizer/BioNTech, Sinopharm/Beijing, Sputnik V",
          "Oxford/AstraZeneca, Sinopharm/Beijing, Sputnik V",
          "Oxford/AstraZeneca, Sinopharm/Beijing",
          "Moderna, Pfizer/BioNTech, Sinopharm/Beijing, Sinovac",
          "Moderna, Oxford/AstraZeneca, Pfizer/BioNTech",
          "Johnson&Johnson, Moderna, Novavax, Oxford/AstraZeneca, Pfizer/BioNTech, Sputnik V",
          "Johnson&Johnson, Moderna, Novavax, Oxford/AstraZeneca, Pfizer/BioNTech",
          "Oxford/AstraZeneca",
          "Johnson&Johnson, Oxford/AstraZeneca, Sinopharm/Beijing, Sinovac",
          "Johnson&Johnson, Pfizer/BioNTech",
          "Johnson&Johnson, Moderna, Novavax, Oxford/AstraZeneca, Pfizer/BioNTech",
          "Johnson&Johnson, Oxford/AstraZeneca",
          "Johnson&Johnson, Moderna, Oxford/AstraZeneca, Pfizer/BioNTech",
          "Moderna, Oxford/AstraZeneca, Pfizer/BioNTech, Sinopharm/Beijing, Sputnik V",
          "Johnson&Johnson, Oxford/AstraZeneca, Pfizer/BioNTech, Sinopharm/Beijing, Sinovac",
          "Oxford/AstraZeneca, Pfizer/BioNTech, Sinopharm/Beijing",
          "Moderna, Oxford/AstraZeneca, Pfizer/BioNTech",
          "Johnson&Johnson, Moderna, Pfizer/BioNTech",
          "Johnson&Johnson, Oxford/AstraZeneca, Sinopharm/Beijing, Sinovac, Sputnik Light, Sputnik V",
          "Medigen, Moderna, Oxford/AstraZeneca, Pfizer/BioNTech",
          "Moderna, Oxford/AstraZeneca, Pfizer/BioNTech, Sinovac, Sputnik V",
          "Johnson&Johnson, Pfizer/BioNTech, Sinopharm/Beijing",
          "Moderna, Oxford/AstraZeneca, Pfizer/BioNTech, Sinopharm/Beijing, Sinovac",
          "Oxford/AstraZeneca, Pfizer/BioNTech, Sinovac",
          "Oxford/AstraZeneca",
          "Pfizer/BioNTech",
          "Oxford/AstraZeneca",
          "Johnson&Johnson, Oxford/AstraZeneca, Pfizer/BioNTech, Sinopharm/Beijing",
          "Johnson&Johnson, Moderna, Oxford/AstraZeneca, Pfizer/BioNTech, Sinopharm/Beijing, Sinovac, Sputnik V",
          "Pfizer/BioNTech, Sinovac, Turkovac",
          "EpiVacCorona, Oxford/AstraZeneca, QazVac, Sinopharm/Beijing, Sputnik V, ZF2001",
          "Pfizer/BioNTech",
          "Oxford/AstraZeneca",
          "Johnson&Johnson, Moderna, Oxford/AstraZeneca, Pfizer/BioNTech, Sinovac",
          "Johnson&Johnson, Moderna, Oxford/AstraZeneca, Pfizer/BioNTech, Sinovac",
          "Oxford/AstraZeneca, Pfizer/BioNTech, Sinopharm/Beijing, Sinopharm/Wuhan, Sputnik V",
          "Moderna, Oxford/AstraZeneca, Pfizer/BioNTech",
          "Johnson&Johnson, Moderna, Pfizer/BioNTech",
          "Oxford/AstraZeneca, Pfizer/BioNTech, Sinovac",
          "Moderna, Oxford/AstraZeneca, Pfizer/BioNTech, Sinovac, Sputnik Light, Sputnik V, ZF2001",
          "Oxford/AstraZeneca",
          "Abdala, Sinopharm/Beijing, Sinovac, Soberana02, Sputnik Light, Sputnik V",
          "Abdala, Moderna, Oxford/AstraZeneca, Pfizer/BioNTech, Sinopharm/Beijing, Sputnik V",
          "Moderna, Oxford/AstraZeneca, Pfizer/BioNTech",
          "Moderna",
          "Johnson&Johnson, Oxford/AstraZeneca, Sinovac",
          "Johnson&Johnson, Oxford/AstraZeneca, Sinopharm/Beijing",
          "Oxford/AstraZeneca, Sinopharm/Beijing, Sinovac, Sputnik V",
          "",
          "",
          "",
          "",
          "",
          "",
          "",
          "",
          "",
          "",
          "",
          "",
          "",
          "",
          "",
          "",
          "",
          "",
          "",
          "",
          "",
          "",
          "",
          "",
          "",
          "",
          "",
          "",
          "",
          "",
          "",
          "",
          "",
          "",
          "",
          "",
          "",
          "",
          "",
          "",
          "",
          "",
          "",
          "",
          "",
          "",
          "",
          "",
          "",
          "",
          "",
          "",
          "",
          "",
          "",
          "",
          "",
          "",
          "",
          "",
          "",
          "",
          "",
          "",
          "",
          "",
          "",
          "",
          "",
          "",
          "",
          "",
          "",
          "",
          "",
          "",
          "",
          "",
          "",
          "",
          "",
          "",
          "",
          ""
         ],
         "type": "treemap",
         "values": [
          5751015,
          2754244,
          13704895,
          151997,
          17535411,
          22714,
          125386,
          96504666,
          2088962,
          169231,
          56242913,
          18131115,
          13425032,
          334155,
          3421273,
          243642749,
          312145,
          11634483,
          25235826,
          467251,
          3333450,
          127090,
          1787937,
          12972370,
          35845,
          1924950,
          2517260,
          413559595,
          40537,
          1068468,
          4348404,
          2369487,
          12166,
          36819740,
          1558668,
          82076782,
          728077,
          141118,
          1012846,
          419469,
          50302179,
          3263129000,
          80573164,
          637961,
          818931,
          29565,
          10166273,
          10364488,
          5224151,
          35342367,
          246566,
          1773485,
          17492052,
          964948,
          13211743,
          165554,
          62334,
          15484878,
          33165706,
          76716981,
          10418549,
          118170701,
          473409,
          1971557,
          509424,
          29373478,
          103894,
          4407,
          1308235,
          11679339,
          141666197,
          367057,
          548978,
          363353,
          2857215,
          171940027,
          12637542,
          116358,
          20503242,
          79745,
          87154,
          15845925,
          150724,
          5952680,
          562620,
          889522,
          249801,
          11995048,
          14944464,
          16429829,
          805469,
          1834500657,
          377108938,
          146792557,
          17536902,
          10741777,
          189498,
          18062854,
          135870869,
          1393819,
          254345587,
          226090,
          9727982,
          20918681,
          17327143,
          133953,
          1821917,
          7814545,
          2902889,
          10048983,
          2874324,
          5276097,
          905438,
          1132502,
          3415834,
          70434,
          4465769,
          1280144,
          1238228,
          1306962,
          1993981,
          68795057,
          913264,
          1873615,
          1255851,
          2650797,
          2494317,
          191907868,
          2123778,
          65140,
          5478794,
          668206,
          4211,
          54201634,
          26215793,
          49316486,
          834756,
          16824,
          39935568,
          34038677,
          367883,
          10950139,
          9611936,
          2681673,
          31391732,
          4161,
          1836421,
          617389,
          3754751,
          11269240,
          6986946,
          219368557,
          3694897,
          7889044,
          574716,
          8428214,
          65552891,
          148799120,
          94,
          53908363,
          22923599,
          6607185,
          16736886,
          163601171,
          19421047,
          7892,
          60467,
          117740,
          69602,
          304893,
          68230,
          205085,
          62388851,
          12115448,
          2496373,
          8494958,
          199466,
          2134324,
          13825593,
          62043,
          7052526,
          2977006,
          358073,
          2395219,
          33485691,
          120604515,
          575057,
          93807121,
          39102567,
          6131070,
          504529,
          21053545,
          15635047,
          3369196,
          49481298,
          10439469,
          5031070,
          128882372,
          1297126,
          2757575,
          1936,
          147193,
          1543684,
          13037269,
          146881913,
          7580976,
          68670,
          12114,
          17197954,
          31683310,
          24463702,
          140968337,
          560181791,
          8027751,
          44177104,
          199464,
          37860994,
          203144374,
          6927437,
          13073,
          807502,
          3402612,
          9039729,
          9611936,
          203144374,
          37860994,
          35342367,
          146792557,
          219368557,
          191907868,
          96504666,
          68795057,
          83467885,
          3263129000,
          2517260,
          29373478,
          8428214,
          1012846,
          3132278,
          1834500657,
          7580976,
          163601171,
          249801,
          505520030,
          377108938,
          7052526,
          2874324,
          485652673,
          66145724,
          243642749,
          152494017,
          32458316,
          3421273,
          26157811,
          129454428,
          11995048,
          589099015,
          2609575,
          930733,
          10155374,
          6131070,
          10048983,
          82835215,
          79662270,
          416893045,
          37060018,
          39214959,
          3369196,
          807502,
          33852748,
          5031070,
          49481298,
          92818,
          627346645,
          2516014,
          128882372,
          39992089,
          44177104,
          10439469,
          15845925,
          2088962,
          818931,
          36325584,
          13825593,
          57694304,
          93801711,
          67345163,
          24463702,
          28760642,
          5252255,
          37454957,
          9942266,
          25091172,
          125386,
          57345900,
          22744624,
          199466,
          12637542,
          706586,
          1238228,
          548978,
          14944464,
          146881913,
          68230,
          20918681,
          905044,
          14537372
         ]
        }
       ],
       "layout": {
        "height": 600,
        "legend": {
         "tracegroupgap": 0
        },
        "template": {
         "data": {
          "bar": [
           {
            "error_x": {
             "color": "#2a3f5f"
            },
            "error_y": {
             "color": "#2a3f5f"
            },
            "marker": {
             "line": {
              "color": "#E5ECF6",
              "width": 0.5
             },
             "pattern": {
              "fillmode": "overlay",
              "size": 10,
              "solidity": 0.2
             }
            },
            "type": "bar"
           }
          ],
          "barpolar": [
           {
            "marker": {
             "line": {
              "color": "#E5ECF6",
              "width": 0.5
             },
             "pattern": {
              "fillmode": "overlay",
              "size": 10,
              "solidity": 0.2
             }
            },
            "type": "barpolar"
           }
          ],
          "carpet": [
           {
            "aaxis": {
             "endlinecolor": "#2a3f5f",
             "gridcolor": "white",
             "linecolor": "white",
             "minorgridcolor": "white",
             "startlinecolor": "#2a3f5f"
            },
            "baxis": {
             "endlinecolor": "#2a3f5f",
             "gridcolor": "white",
             "linecolor": "white",
             "minorgridcolor": "white",
             "startlinecolor": "#2a3f5f"
            },
            "type": "carpet"
           }
          ],
          "choropleth": [
           {
            "colorbar": {
             "outlinewidth": 0,
             "ticks": ""
            },
            "type": "choropleth"
           }
          ],
          "contour": [
           {
            "colorbar": {
             "outlinewidth": 0,
             "ticks": ""
            },
            "colorscale": [
             [
              0,
              "#0d0887"
             ],
             [
              0.1111111111111111,
              "#46039f"
             ],
             [
              0.2222222222222222,
              "#7201a8"
             ],
             [
              0.3333333333333333,
              "#9c179e"
             ],
             [
              0.4444444444444444,
              "#bd3786"
             ],
             [
              0.5555555555555556,
              "#d8576b"
             ],
             [
              0.6666666666666666,
              "#ed7953"
             ],
             [
              0.7777777777777778,
              "#fb9f3a"
             ],
             [
              0.8888888888888888,
              "#fdca26"
             ],
             [
              1,
              "#f0f921"
             ]
            ],
            "type": "contour"
           }
          ],
          "contourcarpet": [
           {
            "colorbar": {
             "outlinewidth": 0,
             "ticks": ""
            },
            "type": "contourcarpet"
           }
          ],
          "heatmap": [
           {
            "colorbar": {
             "outlinewidth": 0,
             "ticks": ""
            },
            "colorscale": [
             [
              0,
              "#0d0887"
             ],
             [
              0.1111111111111111,
              "#46039f"
             ],
             [
              0.2222222222222222,
              "#7201a8"
             ],
             [
              0.3333333333333333,
              "#9c179e"
             ],
             [
              0.4444444444444444,
              "#bd3786"
             ],
             [
              0.5555555555555556,
              "#d8576b"
             ],
             [
              0.6666666666666666,
              "#ed7953"
             ],
             [
              0.7777777777777778,
              "#fb9f3a"
             ],
             [
              0.8888888888888888,
              "#fdca26"
             ],
             [
              1,
              "#f0f921"
             ]
            ],
            "type": "heatmap"
           }
          ],
          "heatmapgl": [
           {
            "colorbar": {
             "outlinewidth": 0,
             "ticks": ""
            },
            "colorscale": [
             [
              0,
              "#0d0887"
             ],
             [
              0.1111111111111111,
              "#46039f"
             ],
             [
              0.2222222222222222,
              "#7201a8"
             ],
             [
              0.3333333333333333,
              "#9c179e"
             ],
             [
              0.4444444444444444,
              "#bd3786"
             ],
             [
              0.5555555555555556,
              "#d8576b"
             ],
             [
              0.6666666666666666,
              "#ed7953"
             ],
             [
              0.7777777777777778,
              "#fb9f3a"
             ],
             [
              0.8888888888888888,
              "#fdca26"
             ],
             [
              1,
              "#f0f921"
             ]
            ],
            "type": "heatmapgl"
           }
          ],
          "histogram": [
           {
            "marker": {
             "pattern": {
              "fillmode": "overlay",
              "size": 10,
              "solidity": 0.2
             }
            },
            "type": "histogram"
           }
          ],
          "histogram2d": [
           {
            "colorbar": {
             "outlinewidth": 0,
             "ticks": ""
            },
            "colorscale": [
             [
              0,
              "#0d0887"
             ],
             [
              0.1111111111111111,
              "#46039f"
             ],
             [
              0.2222222222222222,
              "#7201a8"
             ],
             [
              0.3333333333333333,
              "#9c179e"
             ],
             [
              0.4444444444444444,
              "#bd3786"
             ],
             [
              0.5555555555555556,
              "#d8576b"
             ],
             [
              0.6666666666666666,
              "#ed7953"
             ],
             [
              0.7777777777777778,
              "#fb9f3a"
             ],
             [
              0.8888888888888888,
              "#fdca26"
             ],
             [
              1,
              "#f0f921"
             ]
            ],
            "type": "histogram2d"
           }
          ],
          "histogram2dcontour": [
           {
            "colorbar": {
             "outlinewidth": 0,
             "ticks": ""
            },
            "colorscale": [
             [
              0,
              "#0d0887"
             ],
             [
              0.1111111111111111,
              "#46039f"
             ],
             [
              0.2222222222222222,
              "#7201a8"
             ],
             [
              0.3333333333333333,
              "#9c179e"
             ],
             [
              0.4444444444444444,
              "#bd3786"
             ],
             [
              0.5555555555555556,
              "#d8576b"
             ],
             [
              0.6666666666666666,
              "#ed7953"
             ],
             [
              0.7777777777777778,
              "#fb9f3a"
             ],
             [
              0.8888888888888888,
              "#fdca26"
             ],
             [
              1,
              "#f0f921"
             ]
            ],
            "type": "histogram2dcontour"
           }
          ],
          "mesh3d": [
           {
            "colorbar": {
             "outlinewidth": 0,
             "ticks": ""
            },
            "type": "mesh3d"
           }
          ],
          "parcoords": [
           {
            "line": {
             "colorbar": {
              "outlinewidth": 0,
              "ticks": ""
             }
            },
            "type": "parcoords"
           }
          ],
          "pie": [
           {
            "automargin": true,
            "type": "pie"
           }
          ],
          "scatter": [
           {
            "marker": {
             "colorbar": {
              "outlinewidth": 0,
              "ticks": ""
             }
            },
            "type": "scatter"
           }
          ],
          "scatter3d": [
           {
            "line": {
             "colorbar": {
              "outlinewidth": 0,
              "ticks": ""
             }
            },
            "marker": {
             "colorbar": {
              "outlinewidth": 0,
              "ticks": ""
             }
            },
            "type": "scatter3d"
           }
          ],
          "scattercarpet": [
           {
            "marker": {
             "colorbar": {
              "outlinewidth": 0,
              "ticks": ""
             }
            },
            "type": "scattercarpet"
           }
          ],
          "scattergeo": [
           {
            "marker": {
             "colorbar": {
              "outlinewidth": 0,
              "ticks": ""
             }
            },
            "type": "scattergeo"
           }
          ],
          "scattergl": [
           {
            "marker": {
             "colorbar": {
              "outlinewidth": 0,
              "ticks": ""
             }
            },
            "type": "scattergl"
           }
          ],
          "scattermapbox": [
           {
            "marker": {
             "colorbar": {
              "outlinewidth": 0,
              "ticks": ""
             }
            },
            "type": "scattermapbox"
           }
          ],
          "scatterpolar": [
           {
            "marker": {
             "colorbar": {
              "outlinewidth": 0,
              "ticks": ""
             }
            },
            "type": "scatterpolar"
           }
          ],
          "scatterpolargl": [
           {
            "marker": {
             "colorbar": {
              "outlinewidth": 0,
              "ticks": ""
             }
            },
            "type": "scatterpolargl"
           }
          ],
          "scatterternary": [
           {
            "marker": {
             "colorbar": {
              "outlinewidth": 0,
              "ticks": ""
             }
            },
            "type": "scatterternary"
           }
          ],
          "surface": [
           {
            "colorbar": {
             "outlinewidth": 0,
             "ticks": ""
            },
            "colorscale": [
             [
              0,
              "#0d0887"
             ],
             [
              0.1111111111111111,
              "#46039f"
             ],
             [
              0.2222222222222222,
              "#7201a8"
             ],
             [
              0.3333333333333333,
              "#9c179e"
             ],
             [
              0.4444444444444444,
              "#bd3786"
             ],
             [
              0.5555555555555556,
              "#d8576b"
             ],
             [
              0.6666666666666666,
              "#ed7953"
             ],
             [
              0.7777777777777778,
              "#fb9f3a"
             ],
             [
              0.8888888888888888,
              "#fdca26"
             ],
             [
              1,
              "#f0f921"
             ]
            ],
            "type": "surface"
           }
          ],
          "table": [
           {
            "cells": {
             "fill": {
              "color": "#EBF0F8"
             },
             "line": {
              "color": "white"
             }
            },
            "header": {
             "fill": {
              "color": "#C8D4E3"
             },
             "line": {
              "color": "white"
             }
            },
            "type": "table"
           }
          ]
         },
         "layout": {
          "annotationdefaults": {
           "arrowcolor": "#2a3f5f",
           "arrowhead": 0,
           "arrowwidth": 1
          },
          "autotypenumbers": "strict",
          "coloraxis": {
           "colorbar": {
            "outlinewidth": 0,
            "ticks": ""
           }
          },
          "colorscale": {
           "diverging": [
            [
             0,
             "#8e0152"
            ],
            [
             0.1,
             "#c51b7d"
            ],
            [
             0.2,
             "#de77ae"
            ],
            [
             0.3,
             "#f1b6da"
            ],
            [
             0.4,
             "#fde0ef"
            ],
            [
             0.5,
             "#f7f7f7"
            ],
            [
             0.6,
             "#e6f5d0"
            ],
            [
             0.7,
             "#b8e186"
            ],
            [
             0.8,
             "#7fbc41"
            ],
            [
             0.9,
             "#4d9221"
            ],
            [
             1,
             "#276419"
            ]
           ],
           "sequential": [
            [
             0,
             "#0d0887"
            ],
            [
             0.1111111111111111,
             "#46039f"
            ],
            [
             0.2222222222222222,
             "#7201a8"
            ],
            [
             0.3333333333333333,
             "#9c179e"
            ],
            [
             0.4444444444444444,
             "#bd3786"
            ],
            [
             0.5555555555555556,
             "#d8576b"
            ],
            [
             0.6666666666666666,
             "#ed7953"
            ],
            [
             0.7777777777777778,
             "#fb9f3a"
            ],
            [
             0.8888888888888888,
             "#fdca26"
            ],
            [
             1,
             "#f0f921"
            ]
           ],
           "sequentialminus": [
            [
             0,
             "#0d0887"
            ],
            [
             0.1111111111111111,
             "#46039f"
            ],
            [
             0.2222222222222222,
             "#7201a8"
            ],
            [
             0.3333333333333333,
             "#9c179e"
            ],
            [
             0.4444444444444444,
             "#bd3786"
            ],
            [
             0.5555555555555556,
             "#d8576b"
            ],
            [
             0.6666666666666666,
             "#ed7953"
            ],
            [
             0.7777777777777778,
             "#fb9f3a"
            ],
            [
             0.8888888888888888,
             "#fdca26"
            ],
            [
             1,
             "#f0f921"
            ]
           ]
          },
          "colorway": [
           "#636efa",
           "#EF553B",
           "#00cc96",
           "#ab63fa",
           "#FFA15A",
           "#19d3f3",
           "#FF6692",
           "#B6E880",
           "#FF97FF",
           "#FECB52"
          ],
          "font": {
           "color": "#2a3f5f"
          },
          "geo": {
           "bgcolor": "white",
           "lakecolor": "white",
           "landcolor": "#E5ECF6",
           "showlakes": true,
           "showland": true,
           "subunitcolor": "white"
          },
          "hoverlabel": {
           "align": "left"
          },
          "hovermode": "closest",
          "mapbox": {
           "style": "light"
          },
          "paper_bgcolor": "white",
          "plot_bgcolor": "#E5ECF6",
          "polar": {
           "angularaxis": {
            "gridcolor": "white",
            "linecolor": "white",
            "ticks": ""
           },
           "bgcolor": "#E5ECF6",
           "radialaxis": {
            "gridcolor": "white",
            "linecolor": "white",
            "ticks": ""
           }
          },
          "scene": {
           "xaxis": {
            "backgroundcolor": "#E5ECF6",
            "gridcolor": "white",
            "gridwidth": 2,
            "linecolor": "white",
            "showbackground": true,
            "ticks": "",
            "zerolinecolor": "white"
           },
           "yaxis": {
            "backgroundcolor": "#E5ECF6",
            "gridcolor": "white",
            "gridwidth": 2,
            "linecolor": "white",
            "showbackground": true,
            "ticks": "",
            "zerolinecolor": "white"
           },
           "zaxis": {
            "backgroundcolor": "#E5ECF6",
            "gridcolor": "white",
            "gridwidth": 2,
            "linecolor": "white",
            "showbackground": true,
            "ticks": "",
            "zerolinecolor": "white"
           }
          },
          "shapedefaults": {
           "line": {
            "color": "#2a3f5f"
           }
          },
          "ternary": {
           "aaxis": {
            "gridcolor": "white",
            "linecolor": "white",
            "ticks": ""
           },
           "baxis": {
            "gridcolor": "white",
            "linecolor": "white",
            "ticks": ""
           },
           "bgcolor": "#E5ECF6",
           "caxis": {
            "gridcolor": "white",
            "linecolor": "white",
            "ticks": ""
           }
          },
          "title": {
           "x": 0.05
          },
          "xaxis": {
           "automargin": true,
           "gridcolor": "white",
           "linecolor": "white",
           "ticks": "",
           "title": {
            "standoff": 15
           },
           "zerolinecolor": "white",
           "zerolinewidth": 2
          },
          "yaxis": {
           "automargin": true,
           "gridcolor": "white",
           "linecolor": "white",
           "ticks": "",
           "title": {
            "standoff": 15
           },
           "zerolinecolor": "white",
           "zerolinewidth": 2
          }
         }
        },
        "title": {
         "text": "Total vaccinations per country, grouped by vaccine scheme"
        }
       }
      }
     },
     "metadata": {},
     "output_type": "display_data"
    }
   ],
   "source": [
    "fig = px.treemap(country_vaccine, path = ['Vaccines', 'Country'], values = 'Total vaccinations',\n",
    "                title=\"Total vaccinations per country, grouped by vaccine scheme\", height=600)\n",
    "fig.show()\n"
   ]
  },
  {
   "cell_type": "code",
   "execution_count": 8,
   "metadata": {},
   "outputs": [],
   "source": [
    "fig.write_html(\"C:/Users/FooJacky/Documents/2022 Sem 2/FIT3179/FIT3179_Assignment2/html/treemap.html\")"
   ]
  }
 ],
 "metadata": {
  "kernelspec": {
   "display_name": "Python 3.9.12 ('base')",
   "language": "python",
   "name": "python3"
  },
  "language_info": {
   "codemirror_mode": {
    "name": "ipython",
    "version": 3
   },
   "file_extension": ".py",
   "mimetype": "text/x-python",
   "name": "python",
   "nbconvert_exporter": "python",
   "pygments_lexer": "ipython3",
   "version": "3.9.12"
  },
  "orig_nbformat": 4,
  "vscode": {
   "interpreter": {
    "hash": "d9df16fd60331bb2620fa31debe3e8037feec6f388d643b18be5ed7151b62003"
   }
  }
 },
 "nbformat": 4,
 "nbformat_minor": 2
}
