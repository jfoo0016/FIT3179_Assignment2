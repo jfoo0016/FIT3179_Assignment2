{
 "cells": [
  {
   "cell_type": "markdown",
   "metadata": {},
   "source": [
    "# Data cleaning\n"
   ]
  },
  {
   "cell_type": "code",
   "execution_count": 6,
   "metadata": {},
   "outputs": [],
   "source": [
    "import pandas as pd\n",
    "import numpy as np\n",
    "# read the natural earth csv file\n",
    "natural_earth_df = pd.read_csv('https://raw.githubusercontent.com/jfoo0016/FIT3179_Assignment2/main/data/country.csv')\n",
    "\n",
    "# read the worldometer_coronavirus_summary_data.csv file\n",
    "coronavirus_summary_df = pd.read_csv('https://raw.githubusercontent.com/jfoo0016/FIT3179_Assignment2/main/data/worldometer_coronavirus_summary_data.csv')"
   ]
  },
  {
   "cell_type": "markdown",
   "metadata": {},
   "source": [
    "# Since some country names are worded differenly for the Natural Earth dataset and other datasets from Kaggle. The discrepancies are identified and the country names are modified manually to standardize them according to the names in the Natural Earth dataset"
   ]
  },
  {
   "cell_type": "code",
   "execution_count": 7,
   "metadata": {},
   "outputs": [
    {
     "name": "stdout",
     "output_type": "stream",
     "text": [
      "Countries in Natural Earth dataset but not in worldometer_coronavirus_summary_data dataset\n",
      "['Fr. S. Antarctic Lands', 'Puerto Rico', 'eSwatini', 'North Korea', 'Turkmenistan', 'Czechia', 'Antarctica', 'N. Cyprus', 'Somaliland', 'North Macedonia', 'Kosovo']\n"
     ]
    }
   ],
   "source": [
    "# Identify the differences\n",
    "print(\"Countries in Natural Earth dataset but not in worldometer_coronavirus_summary_data dataset\")\n",
    "print([x for x in natural_earth_df.country.unique() if x not in coronavirus_summary_df.country.unique()])\n"
   ]
  },
  {
   "cell_type": "code",
   "execution_count": 8,
   "metadata": {},
   "outputs": [],
   "source": [
    "# changing the names of certain countries\n",
    "coronavirus_summary_df = coronavirus_summary_df.replace('Western Sahara', 'W. Sahara')\n",
    "coronavirus_summary_df = coronavirus_summary_df.replace('USA', 'United States of America')\n",
    "coronavirus_summary_df = coronavirus_summary_df.replace('Democratic Republic Of The Congo', 'Dem. Rep. Congo')\n",
    "coronavirus_summary_df = coronavirus_summary_df.replace('Dominican Republic', 'Dominican Rep.')\n",
    "coronavirus_summary_df = coronavirus_summary_df.replace('Falkland Islands Malvinas', 'Falkland Is.')\n",
    "coronavirus_summary_df = coronavirus_summary_df.replace('Timor Leste', 'Timor-Leste') \n",
    "coronavirus_summary_df = coronavirus_summary_df.replace('Cote D Ivoire', \"Côte d'Ivoire\")\n",
    "coronavirus_summary_df = coronavirus_summary_df.replace('Guinea Bissau', \"Guinea-Bissau\")\n",
    "coronavirus_summary_df = coronavirus_summary_df.replace('Central African Republic', \"Central African Rep.\")\n",
    "coronavirus_summary_df = coronavirus_summary_df.replace('Equatorial Guinea', \"Eq. Guinea\")\n",
    "coronavirus_summary_df = coronavirus_summary_df.replace('State Of Palestine', \"Palestine\")\n",
    "coronavirus_summary_df = coronavirus_summary_df.replace('Viet Nam', \"Vietnam\")\n",
    "coronavirus_summary_df = coronavirus_summary_df.replace('Solomon Islands', \"Solomon Is.\")\n",
    "coronavirus_summary_df = coronavirus_summary_df.replace('UK', \"United Kingdom\")\n",
    "coronavirus_summary_df = coronavirus_summary_df.replace('Brunei Darussalam', \"Brunei\")\n",
    "coronavirus_summary_df = coronavirus_summary_df.replace('Bosnia And Herzegovina', \"Bosnia and Herz.\")\n",
    "coronavirus_summary_df = coronavirus_summary_df.replace('Trinidad And Tobago', \"Trinidad and Tobago\")\n",
    "coronavirus_summary_df = coronavirus_summary_df.replace('South Sudan', \"S. Sudan\")"
   ]
  },
  {
   "cell_type": "code",
   "execution_count": 9,
   "metadata": {},
   "outputs": [],
   "source": [
    "# overwrite existing csv file\n",
    "coronavirus_summary_df.to_csv('C:/Users/FooJacky/Documents/2022 Sem 2/FIT3179/FIT3179_Assignment2/data/worldometer_coronavirus_summary_data.csv')\n"
   ]
  },
  {
   "cell_type": "code",
   "execution_count": 10,
   "metadata": {},
   "outputs": [],
   "source": [
    "# create new dataframe by grouping by continent\n",
    "new_df = coronavirus_summary_df.groupby('continent').aggregate({'total_confirmed':'sum', 'total_deaths':'sum', 'total_recovered':'sum', 'active_cases':'sum', 'population':'sum'})\n",
    "\n",
    "# create new column percentage_total_confirmed\n",
    "new_df['percentage_total_confirmed'] = (new_df['total_confirmed'] / new_df['total_confirmed'].sum()) * 100\n",
    "\n",
    "\n",
    "# save the newly created data frame into a csv file\n",
    "new_df.to_csv('C:/Users/FooJacky/Documents/2022 Sem 2/FIT3179/FIT3179_Assignment2/data/coronavirus_summary_grouped.csv')\n"
   ]
  }
 ],
 "metadata": {
  "kernelspec": {
   "display_name": "Python 3.9.12 ('base')",
   "language": "python",
   "name": "python3"
  },
  "language_info": {
   "codemirror_mode": {
    "name": "ipython",
    "version": 3
   },
   "file_extension": ".py",
   "mimetype": "text/x-python",
   "name": "python",
   "nbconvert_exporter": "python",
   "pygments_lexer": "ipython3",
   "version": "3.9.12"
  },
  "orig_nbformat": 4,
  "vscode": {
   "interpreter": {
    "hash": "d9df16fd60331bb2620fa31debe3e8037feec6f388d643b18be5ed7151b62003"
   }
  }
 },
 "nbformat": 4,
 "nbformat_minor": 2
}
