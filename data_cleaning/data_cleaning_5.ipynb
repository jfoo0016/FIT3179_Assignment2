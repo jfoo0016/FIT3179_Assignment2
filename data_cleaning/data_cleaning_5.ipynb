{
 "cells": [
  {
   "cell_type": "code",
   "execution_count": 6,
   "metadata": {},
   "outputs": [],
   "source": [
    "import pandas as pd\n",
    "import numpy as np\n",
    "\n",
    "\n",
    "# read the summary_and_vaccine_data.csv file\n",
    "df = pd.read_csv('https://raw.githubusercontent.com/jfoo0016/FIT3179_Assignment2/main/data/summary_and_vaccine_data.csv')\n"
   ]
  },
  {
   "cell_type": "code",
   "execution_count": 7,
   "metadata": {},
   "outputs": [],
   "source": [
    "# sort the columns by 'percentage_fully_vaccinated' \n",
    "\n",
    "from sqlalchemy import false\n",
    "\n",
    "\n",
    "df = df.sort_values(by = 'percentage_fully_vaccinated', ascending = False)\n",
    "\n",
    "df = df.head(10)"
   ]
  },
  {
   "cell_type": "code",
   "execution_count": 8,
   "metadata": {},
   "outputs": [],
   "source": [
    "# create new csv file\n",
    "df.to_csv('C:/Users/FooJacky/Documents/2022 Sem 2/FIT3179/FIT3179_Assignment2/data/bar_chart_data.csv')"
   ]
  }
 ],
 "metadata": {
  "kernelspec": {
   "display_name": "Python 3.9.12 ('base')",
   "language": "python",
   "name": "python3"
  },
  "language_info": {
   "codemirror_mode": {
    "name": "ipython",
    "version": 3
   },
   "file_extension": ".py",
   "mimetype": "text/x-python",
   "name": "python",
   "nbconvert_exporter": "python",
   "pygments_lexer": "ipython3",
   "version": "3.9.12"
  },
  "orig_nbformat": 4,
  "vscode": {
   "interpreter": {
    "hash": "d9df16fd60331bb2620fa31debe3e8037feec6f388d643b18be5ed7151b62003"
   }
  }
 },
 "nbformat": 4,
 "nbformat_minor": 2
}
