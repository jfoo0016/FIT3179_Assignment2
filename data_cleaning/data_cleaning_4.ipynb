{
 "cells": [
  {
   "cell_type": "code",
   "execution_count": 14,
   "metadata": {},
   "outputs": [],
   "source": [
    "import pandas as pd\n",
    "import numpy as np\n",
    "\n",
    "\n",
    "# read the worldometer_coronavirus_daily_data.csv file\n",
    "daily_df = pd.read_csv('https://raw.githubusercontent.com/jfoo0016/FIT3179_Assignment2/main/data/worldometer_coronavirus_daily_data.csv')\n",
    "\n",
    "# read the worldometer_coronavirus_summary_data.csv file\n",
    "summary_df = pd.read_csv('https://raw.githubusercontent.com/jfoo0016/FIT3179_Assignment2/main/data/worldometer_coronavirus_summary_data.csv')"
   ]
  },
  {
   "cell_type": "code",
   "execution_count": 20,
   "metadata": {},
   "outputs": [
    {
     "name": "stdout",
     "output_type": "stream",
     "text": [
      "Countries in the Daily Data not in Summary Data\n",
      "['Guinea Bissau', 'Trinidad And Tobago']\n"
     ]
    }
   ],
   "source": [
    "# standardize country names\n",
    "\n",
    "# identify the differences\n",
    "print(\"Countries in the Daily Data not in Summary Data\")\n",
    "print([x for x in daily_df.country.unique() if x not in summary_df.country.unique()])"
   ]
  },
  {
   "cell_type": "code",
   "execution_count": 19,
   "metadata": {},
   "outputs": [],
   "source": [
    "# replace the names in vacc_df as the names in summary_df is already following the naming of countries from natural earth dataset\n",
    "daily_df.country = daily_df.country.replace().replace({\n",
    "    \"Antigua and Barbuda\": \"Antigua and Barbuda\",\n",
    "    \"Bosnia And Herzegovina\": \"Bosnia and Herz.\",\n",
    "    \"Brunei Darussalam\": \"Brunei\",\n",
    "    \"Central African Republic\": \"Central African Rep.\",\n",
    "    \"Cote D Ivoire\": \"Côte d'Ivoire\",\n",
    "    \"Czechia\": \"Czech Republic\",\n",
    "    \"State Of Palestine\": \"Palestine\",\n",
    "    \"Democratic Republic Of The Congo\": \"Dem. Rep. Congo\", \n",
    "    \"Dominican Republic\": \"Dominican Rep.\",\n",
    "    \"Equatorial Guinea\": \"Eq. Guinea\",\n",
    "    \"Falkland Islands Malvinas\": \"Falkland Is.\",\n",
    "    \"Hong Kong\": \"China Hong Kong Sar\",\n",
    "    \"Macao\": \"China Macao Sar\",\n",
    "    \"USA\": \"United States of America\", \n",
    "    \"UK\": \"United Kingdom\",\n",
    "    \"Isle of Man\": \"Isle Of Man\",\n",
    "    \"Republic of Ireland\": \"Ireland\",\n",
    "    \"Solomon Islands\": \"Solomon Is.\",\n",
    "    \"South Sudan\": \"S. Sudan\",\n",
    "    \"Timor Leste\": \"Timor-Leste\",\n",
    "    \"Viet Nam\": \"Vietnam\",\n",
    "    \"Western Sahara\": \"W. Sahara\"\n",
    "})"
   ]
  },
  {
   "cell_type": "code",
   "execution_count": 21,
   "metadata": {},
   "outputs": [
    {
     "data": {
      "text/html": [
       "<div>\n",
       "<style scoped>\n",
       "    .dataframe tbody tr th:only-of-type {\n",
       "        vertical-align: middle;\n",
       "    }\n",
       "\n",
       "    .dataframe tbody tr th {\n",
       "        vertical-align: top;\n",
       "    }\n",
       "\n",
       "    .dataframe thead th {\n",
       "        text-align: right;\n",
       "    }\n",
       "</style>\n",
       "<table border=\"1\" class=\"dataframe\">\n",
       "  <thead>\n",
       "    <tr style=\"text-align: right;\">\n",
       "      <th></th>\n",
       "      <th>date</th>\n",
       "      <th>country</th>\n",
       "      <th>cumulative_total_cases</th>\n",
       "      <th>daily_new_cases</th>\n",
       "      <th>active_cases</th>\n",
       "      <th>cumulative_total_deaths</th>\n",
       "      <th>daily_new_deaths</th>\n",
       "      <th>population</th>\n",
       "    </tr>\n",
       "  </thead>\n",
       "  <tbody>\n",
       "    <tr>\n",
       "      <th>0</th>\n",
       "      <td>2020-2-15</td>\n",
       "      <td>Afghanistan</td>\n",
       "      <td>0.0</td>\n",
       "      <td>NaN</td>\n",
       "      <td>0.0</td>\n",
       "      <td>0.0</td>\n",
       "      <td>NaN</td>\n",
       "      <td>40560636.0</td>\n",
       "    </tr>\n",
       "    <tr>\n",
       "      <th>1</th>\n",
       "      <td>2020-2-16</td>\n",
       "      <td>Afghanistan</td>\n",
       "      <td>0.0</td>\n",
       "      <td>NaN</td>\n",
       "      <td>0.0</td>\n",
       "      <td>0.0</td>\n",
       "      <td>NaN</td>\n",
       "      <td>40560636.0</td>\n",
       "    </tr>\n",
       "    <tr>\n",
       "      <th>2</th>\n",
       "      <td>2020-2-17</td>\n",
       "      <td>Afghanistan</td>\n",
       "      <td>0.0</td>\n",
       "      <td>NaN</td>\n",
       "      <td>0.0</td>\n",
       "      <td>0.0</td>\n",
       "      <td>NaN</td>\n",
       "      <td>40560636.0</td>\n",
       "    </tr>\n",
       "    <tr>\n",
       "      <th>3</th>\n",
       "      <td>2020-2-18</td>\n",
       "      <td>Afghanistan</td>\n",
       "      <td>0.0</td>\n",
       "      <td>NaN</td>\n",
       "      <td>0.0</td>\n",
       "      <td>0.0</td>\n",
       "      <td>NaN</td>\n",
       "      <td>40560636.0</td>\n",
       "    </tr>\n",
       "    <tr>\n",
       "      <th>4</th>\n",
       "      <td>2020-2-19</td>\n",
       "      <td>Afghanistan</td>\n",
       "      <td>0.0</td>\n",
       "      <td>NaN</td>\n",
       "      <td>0.0</td>\n",
       "      <td>0.0</td>\n",
       "      <td>NaN</td>\n",
       "      <td>40560636.0</td>\n",
       "    </tr>\n",
       "  </tbody>\n",
       "</table>\n",
       "</div>"
      ],
      "text/plain": [
       "        date      country  cumulative_total_cases  daily_new_cases  \\\n",
       "0  2020-2-15  Afghanistan                     0.0              NaN   \n",
       "1  2020-2-16  Afghanistan                     0.0              NaN   \n",
       "2  2020-2-17  Afghanistan                     0.0              NaN   \n",
       "3  2020-2-18  Afghanistan                     0.0              NaN   \n",
       "4  2020-2-19  Afghanistan                     0.0              NaN   \n",
       "\n",
       "   active_cases  cumulative_total_deaths  daily_new_deaths  population  \n",
       "0           0.0                      0.0               NaN  40560636.0  \n",
       "1           0.0                      0.0               NaN  40560636.0  \n",
       "2           0.0                      0.0               NaN  40560636.0  \n",
       "3           0.0                      0.0               NaN  40560636.0  \n",
       "4           0.0                      0.0               NaN  40560636.0  "
      ]
     },
     "execution_count": 21,
     "metadata": {},
     "output_type": "execute_result"
    }
   ],
   "source": [
    "# merge the population column only from the summary dataset into the daily dataset\n",
    "daily_df = pd.merge(daily_df, summary_df[['country', 'population']], on='country', how='left')\n",
    "\n",
    "daily_df.head()\n"
   ]
  },
  {
   "cell_type": "code",
   "execution_count": 22,
   "metadata": {},
   "outputs": [],
   "source": [
    "# create new csv file\n",
    "daily_df.to_csv('C:/Users/FooJacky/Documents/2022 Sem 2/FIT3179/FIT3179_Assignment2/data/new_daily_data.csv')"
   ]
  }
 ],
 "metadata": {
  "kernelspec": {
   "display_name": "Python 3.9.12 ('base')",
   "language": "python",
   "name": "python3"
  },
  "language_info": {
   "codemirror_mode": {
    "name": "ipython",
    "version": 3
   },
   "file_extension": ".py",
   "mimetype": "text/x-python",
   "name": "python",
   "nbconvert_exporter": "python",
   "pygments_lexer": "ipython3",
   "version": "3.9.12"
  },
  "orig_nbformat": 4,
  "vscode": {
   "interpreter": {
    "hash": "d9df16fd60331bb2620fa31debe3e8037feec6f388d643b18be5ed7151b62003"
   }
  }
 },
 "nbformat": 4,
 "nbformat_minor": 2
}
