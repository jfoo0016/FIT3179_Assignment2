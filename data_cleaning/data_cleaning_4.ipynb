{
 "cells": [
  {
   "cell_type": "code",
   "execution_count": 13,
   "metadata": {},
   "outputs": [],
   "source": [
    "import pandas as pd\n",
    "import numpy as np\n",
    "\n",
    "\n",
    "# read the worldometer_coronavirus_daily_data.csv file\n",
    "daily_df = pd.read_csv('https://raw.githubusercontent.com/jfoo0016/FIT3179_Assignment2/main/data/worldometer_coronavirus_daily_data.csv')\n",
    "\n",
    "# read the worldometer_coronavirus_summary_data.csv file\n",
    "summary_df = pd.read_csv('https://raw.githubusercontent.com/jfoo0016/FIT3179_Assignment2/main/data/worldometer_coronavirus_summary_data.csv')"
   ]
  },
  {
   "cell_type": "code",
   "execution_count": 14,
   "metadata": {},
   "outputs": [
    {
     "name": "stdout",
     "output_type": "stream",
     "text": [
      "Countries in the Daily Data not in Summary Data\n",
      "['Bosnia And Herzegovina', 'Brunei Darussalam', 'Central African Republic', 'Cote D Ivoire', 'Democratic Republic Of The Congo', 'Dominican Republic', 'Equatorial Guinea', 'Falkland Islands Malvinas', 'Guinea Bissau', 'Solomon Islands', 'South Sudan', 'State Of Palestine', 'Timor Leste', 'Trinidad And Tobago', 'UK', 'USA', 'Viet Nam', 'Western Sahara']\n"
     ]
    }
   ],
   "source": [
    "# standardize country names\n",
    "\n",
    "# identify the differences\n",
    "print(\"Countries in the Daily Data not in Summary Data\")\n",
    "print([x for x in daily_df.country.unique() if x not in summary_df.country.unique()])"
   ]
  },
  {
   "cell_type": "code",
   "execution_count": 15,
   "metadata": {},
   "outputs": [],
   "source": [
    "# replace the names in vacc_df as the names in summary_df is already following the naming of countries from natural earth dataset\n",
    "daily_df.country = daily_df.country.replace().replace({\n",
    "    \"Antigua and Barbuda\": \"Antigua and Barbuda\",\n",
    "    \"Bosnia And Herzegovina\": \"Bosnia and Herz.\",\n",
    "    \"Brunei Darussalam\": \"Brunei\",\n",
    "    \"Central African Republic\": \"Central African Rep.\",\n",
    "    \"Cote D Ivoire\": \"Côte d'Ivoire\",\n",
    "    \"Czechia\": \"Czech Republic\",\n",
    "    \"State Of Palestine\": \"Palestine\",\n",
    "    \"Democratic Republic Of The Congo\": \"Dem. Rep. Congo\", \n",
    "    \"Dominican Republic\": \"Dominican Rep.\",\n",
    "    \"Equatorial Guinea\": \"Eq. Guinea\",\n",
    "    \"Falkland Islands Malvinas\": \"Falkland Is.\",\n",
    "    \"Hong Kong\": \"China Hong Kong Sar\",\n",
    "    \"Macao\": \"China Macao Sar\",\n",
    "    \"USA\": \"United States of America\", \n",
    "    \"UK\": \"United Kingdom\",\n",
    "    \"Isle of Man\": \"Isle Of Man\",\n",
    "    \"Republic of Ireland\": \"Ireland\",\n",
    "    \"Solomon Islands\": \"Solomon Is.\",\n",
    "    \"South Sudan\": \"S. Sudan\",\n",
    "    \"Timor Leste\": \"Timor-Leste\",\n",
    "    \"Viet Nam\": \"Vietnam\",\n",
    "    \"Western Sahara\": \"W. Sahara\"\n",
    "})"
   ]
  },
  {
   "cell_type": "code",
   "execution_count": 16,
   "metadata": {},
   "outputs": [],
   "source": [
    "# add new cumulative_total_recovered column\n",
    "daily_df['cumulative_total_recovered'] = daily_df['cumulative_total_cases'] - daily_df['active_cases'] - daily_df['cumulative_total_deaths']\n",
    "\n",
    "# add new daily_new_recovered column\n",
    "daily_df['daily_new_recovered'] = daily_df['cumulative_total_recovered'].diff().fillna(daily_df['cumulative_total_recovered'])"
   ]
  },
  {
   "cell_type": "code",
   "execution_count": 17,
   "metadata": {},
   "outputs": [
    {
     "data": {
      "text/html": [
       "<div>\n",
       "<style scoped>\n",
       "    .dataframe tbody tr th:only-of-type {\n",
       "        vertical-align: middle;\n",
       "    }\n",
       "\n",
       "    .dataframe tbody tr th {\n",
       "        vertical-align: top;\n",
       "    }\n",
       "\n",
       "    .dataframe thead th {\n",
       "        text-align: right;\n",
       "    }\n",
       "</style>\n",
       "<table border=\"1\" class=\"dataframe\">\n",
       "  <thead>\n",
       "    <tr style=\"text-align: right;\">\n",
       "      <th></th>\n",
       "      <th>date</th>\n",
       "      <th>country</th>\n",
       "      <th>cumulative_total_cases</th>\n",
       "      <th>daily_new_cases</th>\n",
       "      <th>active_cases</th>\n",
       "      <th>cumulative_total_deaths</th>\n",
       "      <th>daily_new_deaths</th>\n",
       "      <th>cumulative_total_recovered</th>\n",
       "      <th>daily_new_recovered</th>\n",
       "      <th>continent</th>\n",
       "      <th>population</th>\n",
       "    </tr>\n",
       "  </thead>\n",
       "  <tbody>\n",
       "    <tr>\n",
       "      <th>184782</th>\n",
       "      <td>2022-5-10</td>\n",
       "      <td>Zimbabwe</td>\n",
       "      <td>248642.0</td>\n",
       "      <td>106.0</td>\n",
       "      <td>963.0</td>\n",
       "      <td>5481.0</td>\n",
       "      <td>2.0</td>\n",
       "      <td>242198.0</td>\n",
       "      <td>80.0</td>\n",
       "      <td>Africa</td>\n",
       "      <td>15265849.0</td>\n",
       "    </tr>\n",
       "    <tr>\n",
       "      <th>184783</th>\n",
       "      <td>2022-5-11</td>\n",
       "      <td>Zimbabwe</td>\n",
       "      <td>248778.0</td>\n",
       "      <td>136.0</td>\n",
       "      <td>1039.0</td>\n",
       "      <td>5481.0</td>\n",
       "      <td>0.0</td>\n",
       "      <td>242258.0</td>\n",
       "      <td>60.0</td>\n",
       "      <td>Africa</td>\n",
       "      <td>15265849.0</td>\n",
       "    </tr>\n",
       "    <tr>\n",
       "      <th>184784</th>\n",
       "      <td>2022-5-12</td>\n",
       "      <td>Zimbabwe</td>\n",
       "      <td>248943.0</td>\n",
       "      <td>165.0</td>\n",
       "      <td>1158.0</td>\n",
       "      <td>5481.0</td>\n",
       "      <td>0.0</td>\n",
       "      <td>242304.0</td>\n",
       "      <td>46.0</td>\n",
       "      <td>Africa</td>\n",
       "      <td>15265849.0</td>\n",
       "    </tr>\n",
       "    <tr>\n",
       "      <th>184785</th>\n",
       "      <td>2022-5-13</td>\n",
       "      <td>Zimbabwe</td>\n",
       "      <td>249131.0</td>\n",
       "      <td>188.0</td>\n",
       "      <td>1283.0</td>\n",
       "      <td>5482.0</td>\n",
       "      <td>1.0</td>\n",
       "      <td>242366.0</td>\n",
       "      <td>62.0</td>\n",
       "      <td>Africa</td>\n",
       "      <td>15265849.0</td>\n",
       "    </tr>\n",
       "    <tr>\n",
       "      <th>184786</th>\n",
       "      <td>2022-5-14</td>\n",
       "      <td>Zimbabwe</td>\n",
       "      <td>249206.0</td>\n",
       "      <td>75.0</td>\n",
       "      <td>1307.0</td>\n",
       "      <td>5482.0</td>\n",
       "      <td>0.0</td>\n",
       "      <td>242417.0</td>\n",
       "      <td>51.0</td>\n",
       "      <td>Africa</td>\n",
       "      <td>15265849.0</td>\n",
       "    </tr>\n",
       "  </tbody>\n",
       "</table>\n",
       "</div>"
      ],
      "text/plain": [
       "             date   country  cumulative_total_cases  daily_new_cases  \\\n",
       "184782  2022-5-10  Zimbabwe                248642.0            106.0   \n",
       "184783  2022-5-11  Zimbabwe                248778.0            136.0   \n",
       "184784  2022-5-12  Zimbabwe                248943.0            165.0   \n",
       "184785  2022-5-13  Zimbabwe                249131.0            188.0   \n",
       "184786  2022-5-14  Zimbabwe                249206.0             75.0   \n",
       "\n",
       "        active_cases  cumulative_total_deaths  daily_new_deaths  \\\n",
       "184782         963.0                   5481.0               2.0   \n",
       "184783        1039.0                   5481.0               0.0   \n",
       "184784        1158.0                   5481.0               0.0   \n",
       "184785        1283.0                   5482.0               1.0   \n",
       "184786        1307.0                   5482.0               0.0   \n",
       "\n",
       "        cumulative_total_recovered  daily_new_recovered continent  population  \n",
       "184782                    242198.0                 80.0    Africa  15265849.0  \n",
       "184783                    242258.0                 60.0    Africa  15265849.0  \n",
       "184784                    242304.0                 46.0    Africa  15265849.0  \n",
       "184785                    242366.0                 62.0    Africa  15265849.0  \n",
       "184786                    242417.0                 51.0    Africa  15265849.0  "
      ]
     },
     "execution_count": 17,
     "metadata": {},
     "output_type": "execute_result"
    }
   ],
   "source": [
    "# merge the continent and population columns only from the summary dataset into the daily dataset\n",
    "daily_df = pd.merge(daily_df, summary_df[['country', 'continent', 'population']], on='country', how='left')\n",
    "\n",
    "\n",
    "daily_df.tail()\n"
   ]
  },
  {
   "cell_type": "code",
   "execution_count": 18,
   "metadata": {},
   "outputs": [],
   "source": [
    "# create new csv file\n",
    "daily_df.to_csv('C:/Users/FooJacky/Documents/2022 Sem 2/FIT3179/FIT3179_Assignment2/data/new_daily_data.csv')"
   ]
  }
 ],
 "metadata": {
  "kernelspec": {
   "display_name": "Python 3.9.12 ('base')",
   "language": "python",
   "name": "python3"
  },
  "language_info": {
   "codemirror_mode": {
    "name": "ipython",
    "version": 3
   },
   "file_extension": ".py",
   "mimetype": "text/x-python",
   "name": "python",
   "nbconvert_exporter": "python",
   "pygments_lexer": "ipython3",
   "version": "3.9.12"
  },
  "orig_nbformat": 4,
  "vscode": {
   "interpreter": {
    "hash": "d9df16fd60331bb2620fa31debe3e8037feec6f388d643b18be5ed7151b62003"
   }
  }
 },
 "nbformat": 4,
 "nbformat_minor": 2
}
